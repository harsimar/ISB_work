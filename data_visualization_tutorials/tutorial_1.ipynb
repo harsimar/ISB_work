{
 "cells": [
  {
   "cell_type": "code",
   "execution_count": 76,
   "metadata": {
    "collapsed": false,
    "scrolled": true
   },
   "outputs": [],
   "source": [
    "%matplotlib inline\n",
    "import pandas as pd\n",
    "import matplotlib as mpl\n",
    "import pandas as pd\n",
    "from matplotlib.colors import LinearSegmentedColormap\n",
    "from matplotlib.lines import Line2D\n",
    "import matplotlib.pyplot as plt\n",
    "import numpy as np\n",
    " \n",
    "countries = ['France','Spain','Sweden','Germany','Finland','Poland','Italy',\n",
    "             'United Kingdom','Romania','Greece','Bulgaria','Hungary',\n",
    "             'Portugal','Austria','Czech Republic','Ireland','Lithuania','Latvia',\n",
    "             'Croatia','Slovakia','Estonia','Denmark','Netherlands','Belgium']\n",
    "extensions = [547030,504782,450295,357022,338145,312685,301340,243610,238391,\n",
    "              131940,110879,93028,92090,83871,78867,70273,65300,64589,56594,\n",
    "              49035,45228,43094,41543,30528]\n",
    "populations = [63.8,47,9.55,81.8,5.42,38.3,61.1,63.2,21.3,11.4,7.35,\n",
    "               9.93,10.7,8.44,10.6,4.63,3.28,2.23,4.38,5.49,1.34,5.61,\n",
    "               16.8,10.8]\n",
    "life_expectancies = [81.8,82.1,81.8,80.7,80.5,76.4,82.4,80.5,73.8,80.8,73.5,\n",
    "                    74.6,79.9,81.1,77.7,80.7,72.1,72.2,77,75.4,74.4,79.4,81,80.5]\n",
    "data = {'extension' : pd.Series(extensions, index=countries), \n",
    "        'population' : pd.Series(populations, index=countries),\n",
    "        'life expectancy' : pd.Series(life_expectancies, index=countries)}\n",
    " \n",
    "df = pd.DataFrame(data)\n",
    "df = df.sort_values(by = 'life expectancy')\n"
   ]
  },
  {
   "cell_type": "code",
   "execution_count": 67,
   "metadata": {
    "collapsed": false
   },
   "outputs": [],
   "source": [
    "fig, axes = plt.subplots(nrows=3, ncols=1)\n",
    "for i, c in enumerate(df.columns):\n",
    "    # c is col. Uses the pandas plot function to plot one column at a time. \n",
    "    # kind param is the type of plot, figsize is the size of the window, title is the col name, ax = axes obj\n",
    "    df[c].plot(kind='bar', ax=axes[i], figsize=(12, 10), title=c)\n",
    "    \n",
    "#plt.show()\n",
    "plt.savefig('EU1.png', bbox_inches='tight') #--> saves image into directory"
   ]
  },
  {
   "cell_type": "code",
   "execution_count": 68,
   "metadata": {
    "collapsed": true
   },
   "outputs": [],
   "source": [
    "# Create a figure of given size\n",
    "fig = plt.figure(figsize=(16,12))\n",
    "\n",
    "# Add a subplot\n",
    "# 111 means 1 x 1 grid, first subplot\n",
    "# ax is an axis obj\n",
    "ax = fig.add_subplot(111)\n",
    "# Set title\n",
    "ttl = 'Population, size and age expectancy in the European Union'\n",
    "\n"
   ]
  },
  {
   "cell_type": "code",
   "execution_count": 79,
   "metadata": {
    "collapsed": false
   },
   "outputs": [
    {
     "data": {
      "text/plain": [
       "<matplotlib.figure.Figure at 0x114944890>"
      ]
     },
     "metadata": {},
     "output_type": "display_data"
    }
   ],
   "source": [
    "\n",
    "# Remove grid lines (dotted lines inside plot)\n",
    "ax.grid(False)\n",
    "# Remove plot frame\n",
    "ax.set_frame_on(False)\n",
    "# Pandas trick: remove weird dotted line on axis\n",
    "#ax.lines[0].set_visible(False)\n",
    " \n",
    "# Customize title, set position, allow space on top of plot for title\n",
    "ax.set_title(ax.get_title(), fontsize=26, alpha=a, ha='left')\n",
    "plt.subplots_adjust(top=0.9)\n",
    "ax.title.set_position((0,1.08))\n",
    " \n",
    "# Set x axis label on top of plot, set label text\n",
    "ax.xaxis.set_label_position('top')\n",
    "xlab = 'Population (in millions)'\n",
    "ax.set_xlabel(xlab, fontsize=20, alpha=a, ha='left')\n",
    "ax.xaxis.set_label_coords(0, 1.04)\n",
    " \n",
    "# Position x tick labels on top\n",
    "ax.xaxis.tick_top()\n",
    "# Remove tick lines in x and y axes\n",
    "ax.yaxis.set_ticks_position('none')\n",
    "ax.xaxis.set_ticks_position('none')\n",
    " \n",
    "# Customize x tick lables\n",
    "xticks = [5,10,20,50,80]\n",
    "ax.xaxis.set_ticks(xticks)\n",
    "ax.set_xticklabels(xticks, fontsize=16, alpha=a)\n",
    " \n",
    "# Customize y tick labels\n",
    "yticks = [item.get_text() for item in ax.get_yticklabels()]\n",
    "ax.set_yticklabels(yticks, fontsize=16, alpha=a)\n",
    "ax.yaxis.set_tick_params(pad=12)  \n"
   ]
  },
  {
   "cell_type": "code",
   "execution_count": 70,
   "metadata": {
    "collapsed": false
   },
   "outputs": [],
   "source": [
    "# Set color transparency (0: transparent; 1: solid)\n",
    "a = 0.7\n",
    "# Create a colormap\n",
    "#len(df) counts the number of rows in dataframe\n",
    "#each row gets a slightly different color\n",
    "customcmap = [(x/24.0,  x/48.0, 0.05) for x in range(len(df))]\n",
    "# Plot the 'population' column as horizontal bar plot\n",
    "\n",
    "\n"
   ]
  },
  {
   "cell_type": "code",
   "execution_count": 71,
   "metadata": {
    "collapsed": false
   },
   "outputs": [
    {
     "data": {
      "text/plain": [
       "<matplotlib.axes._subplots.AxesSubplot at 0x11404fd90>"
      ]
     },
     "execution_count": 71,
     "metadata": {},
     "output_type": "execute_result"
    }
   ],
   "source": [
    "df['population'].plot(kind='barh', ax=ax, alpha=a, legend=False, color=customcmap,\n",
    "                      edgecolor='w', xlim=(0,max(df['population'])), title=ttl)\n"
   ]
  },
  {
   "cell_type": "code",
   "execution_count": 72,
   "metadata": {
    "collapsed": true
   },
   "outputs": [],
   "source": [
    "\n",
    "# Set bar height dependent on country extension\n",
    "# Set min and max bar thickness (from 0 to 1)\n",
    "hmin, hmax = 0.3, 0.9\n",
    "xmin, xmax = min(df['extension']), max(df['extension'])\n",
    "# Function that interpolates linearly between hmin and hmax\n",
    "f = lambda x: hmin + (hmax-hmin)*(x-xmin)/(xmax-xmin)\n",
    "# Make array of heights\n",
    "hs = [f(x) for x in df['extension']]\n",
    " \n",
    "# Iterate over bars\n",
    "for container in ax.containers:\n",
    "    # Each bar has a Rectangle element as child\n",
    "    for i,child in enumerate(container.get_children()):\n",
    "        # Reset the lower left point of each bar so that bar is centered\n",
    "        child.set_y(child.get_y()- 0.125 + 0.5-hs[i]/2)\n",
    "        # Attribute height to each Recatangle according to country's size\n",
    "        plt.setp(child, height=hs[i])"
   ]
  },
  {
   "cell_type": "code",
   "execution_count": 73,
   "metadata": {
    "collapsed": false
   },
   "outputs": [
    {
     "data": {
      "text/plain": [
       "[[None], [None], [None]]"
      ]
     },
     "execution_count": 73,
     "metadata": {},
     "output_type": "execute_result"
    }
   ],
   "source": [
    "# Legend\n",
    "# Create fake labels for legend\n",
    "l1 = Line2D([], [], linewidth=6, color='k', alpha=a) \n",
    "l2 = Line2D([], [], linewidth=12, color='k', alpha=a) \n",
    "l3 = Line2D([], [], linewidth=22, color='k', alpha=a)\n",
    " \n",
    "# Set three legend labels to be min, mean and max of countries extensions \n",
    "# (rounded up to 10k km2)\n",
    "rnd = 10000\n",
    "labels = [str(int(round(l/rnd)*rnd)) for l in min(df['extension']), \n",
    "         np.mean(df['extension']), max(df['extension'])]\n",
    " \n",
    "# Position legend in lower right part\n",
    "# Set ncol=3 for horizontally expanding legend\n",
    "leg = ax.legend([l1, l2, l3], labels, ncol=3, frameon=False, fontsize=16, \n",
    "                bbox_to_anchor=[1.1, 0.11], handlelength=2, \n",
    "                handletextpad=1, columnspacing=2, title='Size (in km2)')\n",
    " \n",
    "# Customize legend title\n",
    "# Set position to increase space between legend and labels\n",
    "plt.setp(leg.get_title(), fontsize=20, alpha=a)\n",
    "leg.get_title().set_position((0, 10))\n",
    "# Customize transparency for legend labels\n",
    "[plt.setp(label, alpha=a) for label in leg.get_texts()]"
   ]
  },
  {
   "cell_type": "code",
   "execution_count": 74,
   "metadata": {
    "collapsed": false
   },
   "outputs": [
    {
     "name": "stderr",
     "output_type": "stream",
     "text": [
      "/usr/local/lib/python2.7/site-packages/ipykernel/__main__.py:5: MatplotlibDeprecationWarning: The normalize class alias was deprecated in version 1.3. Use Normalize instead.\n"
     ]
    },
    {
     "data": {
      "text/plain": [
       "[None,\n",
       " None,\n",
       " None,\n",
       " None,\n",
       " None,\n",
       " None,\n",
       " None,\n",
       " None,\n",
       " None,\n",
       " None,\n",
       " None,\n",
       " None,\n",
       " None,\n",
       " None]"
      ]
     },
     "execution_count": 74,
     "metadata": {},
     "output_type": "execute_result"
    }
   ],
   "source": [
    "# Create a fake colorbar\n",
    "ctb = LinearSegmentedColormap.from_list('custombar', customcmap, N=2048)\n",
    "# Trick from http://stackoverflow.com/questions/8342549/\n",
    "# matplotlib-add-colorbar-to-a-sequence-of-line-plots\n",
    "sm = plt.cm.ScalarMappable(cmap=ctb, norm=plt.normalize(vmin=72, vmax=84))\n",
    "# Fake up the array of the scalar mappable\n",
    "sm._A = []\n",
    " \n",
    "# Set colorbar, aspect ratio\n",
    "cbar = plt.colorbar(sm, alpha=0.05, aspect=16, shrink=0.4)\n",
    "cbar.solids.set_edgecolor(\"face\")\n",
    "# Remove colorbar container frame\n",
    "cbar.outline.set_visible(False)\n",
    "# Fontsize for colorbar ticklabels\n",
    "cbar.ax.tick_params(labelsize=16)\n",
    "# Customize colorbar tick labels\n",
    "mytks = range(72,86,2)\n",
    "cbar.set_ticks(mytks)\n",
    "cbar.ax.set_yticklabels([str(a) for a in mytks], alpha=a)\n",
    " \n",
    "# Colorbar label, customize fontsize and distance to colorbar\n",
    "cbar.set_label('Age expectancy (in years)', alpha=a, \n",
    "               rotation=270, fontsize=20, labelpad=20)\n",
    "# Remove color bar tick lines, while keeping the tick labels\n",
    "cbarytks = plt.getp(cbar.ax.axes, 'yticklines')\n",
    "plt.setp(cbarytks, visible=False)\n"
   ]
  },
  {
   "cell_type": "code",
   "execution_count": 75,
   "metadata": {
    "collapsed": true
   },
   "outputs": [],
   "source": [
    "\n",
    "# Save figure in png with tight bounding box\n",
    "plt.savefig('EU.png', bbox_inches='tight', dpi=300)"
   ]
  },
  {
   "cell_type": "code",
   "execution_count": null,
   "metadata": {
    "collapsed": true
   },
   "outputs": [],
   "source": []
  }
 ],
 "metadata": {
  "kernelspec": {
   "display_name": "Python 2",
   "language": "python",
   "name": "python2"
  },
  "language_info": {
   "codemirror_mode": {
    "name": "ipython",
    "version": 2
   },
   "file_extension": ".py",
   "mimetype": "text/x-python",
   "name": "python",
   "nbconvert_exporter": "python",
   "pygments_lexer": "ipython2",
   "version": "2.7.10"
  }
 },
 "nbformat": 4,
 "nbformat_minor": 0
}
