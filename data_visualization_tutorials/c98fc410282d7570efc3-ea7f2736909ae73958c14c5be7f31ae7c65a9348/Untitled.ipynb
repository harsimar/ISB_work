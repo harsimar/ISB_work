{
 "cells": [
  {
   "cell_type": "code",
   "execution_count": 4,
   "metadata": {
    "collapsed": false
   },
   "outputs": [],
   "source": [
    "from matplotlib import pyplot as plt\n",
    "from matplotlib.collections import BrokenBarHCollection\n",
    "import pandas\n",
    "\n",
    "ideo = pandas.read_table(\n",
    "    'cytoBandIdeo.txt',\n",
    "    skiprows=0,\n",
    "    names=['chrom', 'start', 'end', 'name', 'gieStain']\n",
    ")"
   ]
  },
  {
   "cell_type": "code",
   "execution_count": 6,
   "metadata": {
    "collapsed": false
   },
   "outputs": [
    {
     "data": {
      "text/html": [
       "<div>\n",
       "<table border=\"1\" class=\"dataframe\">\n",
       "  <thead>\n",
       "    <tr style=\"text-align: right;\">\n",
       "      <th></th>\n",
       "      <th>chrom</th>\n",
       "      <th>start</th>\n",
       "      <th>end</th>\n",
       "      <th>name</th>\n",
       "      <th>gieStain</th>\n",
       "    </tr>\n",
       "  </thead>\n",
       "  <tbody>\n",
       "    <tr>\n",
       "      <th>1288</th>\n",
       "      <td>chrY</td>\n",
       "      <td>17100000</td>\n",
       "      <td>19600000</td>\n",
       "      <td>q11.222</td>\n",
       "      <td>gneg</td>\n",
       "    </tr>\n",
       "    <tr>\n",
       "      <th>1289</th>\n",
       "      <td>chrY</td>\n",
       "      <td>19600000</td>\n",
       "      <td>23800000</td>\n",
       "      <td>q11.223</td>\n",
       "      <td>gpos50</td>\n",
       "    </tr>\n",
       "    <tr>\n",
       "      <th>1290</th>\n",
       "      <td>chrY</td>\n",
       "      <td>23800000</td>\n",
       "      <td>26600000</td>\n",
       "      <td>q11.23</td>\n",
       "      <td>gneg</td>\n",
       "    </tr>\n",
       "    <tr>\n",
       "      <th>1291</th>\n",
       "      <td>chrY</td>\n",
       "      <td>26600000</td>\n",
       "      <td>57227415</td>\n",
       "      <td>q12</td>\n",
       "      <td>gvar</td>\n",
       "    </tr>\n",
       "    <tr>\n",
       "      <th>1292</th>\n",
       "      <td>chrY_KI270740v1_random</td>\n",
       "      <td>0</td>\n",
       "      <td>37240</td>\n",
       "      <td>NaN</td>\n",
       "      <td>gneg</td>\n",
       "    </tr>\n",
       "  </tbody>\n",
       "</table>\n",
       "</div>"
      ],
      "text/plain": [
       "                       chrom     start       end     name gieStain\n",
       "1288                    chrY  17100000  19600000  q11.222     gneg\n",
       "1289                    chrY  19600000  23800000  q11.223   gpos50\n",
       "1290                    chrY  23800000  26600000   q11.23     gneg\n",
       "1291                    chrY  26600000  57227415      q12     gvar\n",
       "1292  chrY_KI270740v1_random         0     37240      NaN     gneg"
      ]
     },
     "execution_count": 6,
     "metadata": {},
     "output_type": "execute_result"
    }
   ],
   "source": [
    "ideo.tail()\n"
   ]
  },
  {
   "cell_type": "code",
   "execution_count": 13,
   "metadata": {
    "collapsed": false
   },
   "outputs": [
    {
     "name": "stdout",
     "output_type": "stream",
     "text": [
      "chr1\n",
      "[[        0   2300000]\n",
      " [  2300000   5300000]\n",
      " [  5300000   7100000]\n",
      " [  7100000   9100000]\n",
      " [  9100000  12500000]\n",
      " [ 12500000  15900000]\n",
      " [ 15900000  20100000]\n",
      " [ 20100000  23600000]\n",
      " [ 23600000  27600000]\n",
      " [ 27600000  29900000]\n",
      " [ 29900000  32300000]\n",
      " [ 32300000  34300000]\n",
      " [ 34300000  39600000]\n",
      " [ 39600000  43700000]\n",
      " [ 43700000  46300000]\n",
      " [ 46300000  50200000]\n",
      " [ 50200000  55600000]\n",
      " [ 55600000  58500000]\n",
      " [ 58500000  60800000]\n",
      " [ 60800000  68500000]\n",
      " [ 68500000  69300000]\n",
      " [ 69300000  84400000]\n",
      " [ 84400000  87900000]\n",
      " [ 87900000  91500000]\n",
      " [ 91500000  94300000]\n",
      " [ 94300000  99300000]\n",
      " [ 99300000 101800000]\n",
      " [101800000 106700000]\n",
      " [106700000 111200000]\n",
      " [111200000 115500000]\n",
      " [115500000 117200000]\n",
      " [117200000 120400000]\n",
      " [120400000 121700000]\n",
      " [121700000 123400000]\n",
      " [123400000 125100000]\n",
      " [125100000 143200000]\n",
      " [143200000 147500000]\n",
      " [147500000 150600000]\n",
      " [150600000 155100000]\n",
      " [155100000 156600000]\n",
      " [156600000 159100000]\n",
      " [159100000 160500000]\n",
      " [160500000 165500000]\n",
      " [165500000 167200000]\n",
      " [167200000 170900000]\n",
      " [170900000 173000000]\n",
      " [173000000 176100000]\n",
      " [176100000 180300000]\n",
      " [180300000 185800000]\n",
      " [185800000 190800000]\n",
      " [190800000 193800000]\n",
      " [193800000 198700000]\n",
      " [198700000 207100000]\n",
      " [207100000 211300000]\n",
      " [211300000 214400000]\n",
      " [214400000 223900000]\n",
      " [223900000 224400000]\n",
      " [224400000 226800000]\n",
      " [226800000 230500000]\n",
      " [230500000 234600000]\n",
      " [234600000 236400000]\n",
      " [236400000 243500000]\n",
      " [243500000 248956422]]\n"
     ]
    }
   ],
   "source": [
    "for chrom, group in ideo.groupby('chrom'):\n",
    "    print chrom\n",
    "    print group[['start','end']].values\n",
    "    break\n"
   ]
  },
  {
   "cell_type": "code",
   "execution_count": 9,
   "metadata": {
    "collapsed": false
   },
   "outputs": [
    {
     "data": {
      "text/plain": [
       "0                         chr1\n",
       "1                         chr1\n",
       "2                         chr1\n",
       "3                         chr1\n",
       "4                         chr1\n",
       "5                         chr1\n",
       "6                         chr1\n",
       "7                         chr1\n",
       "8                         chr1\n",
       "9                         chr1\n",
       "10                        chr1\n",
       "11                        chr1\n",
       "12                        chr1\n",
       "13                        chr1\n",
       "14                        chr1\n",
       "15                        chr1\n",
       "16                        chr1\n",
       "17                        chr1\n",
       "18                        chr1\n",
       "19                        chr1\n",
       "20                        chr1\n",
       "21                        chr1\n",
       "22                        chr1\n",
       "23                        chr1\n",
       "24                        chr1\n",
       "25                        chr1\n",
       "26                        chr1\n",
       "27                        chr1\n",
       "28                        chr1\n",
       "29                        chr1\n",
       "                 ...          \n",
       "1263                      chrX\n",
       "1264                      chrX\n",
       "1265                      chrX\n",
       "1266                      chrX\n",
       "1267                      chrX\n",
       "1268                      chrX\n",
       "1269                      chrX\n",
       "1270                      chrX\n",
       "1271                      chrX\n",
       "1272                      chrX\n",
       "1273                      chrX\n",
       "1274                      chrX\n",
       "1275                      chrX\n",
       "1276                      chrX\n",
       "1277                      chrX\n",
       "1278       chrX_KI270880v1_alt\n",
       "1279       chrX_KI270881v1_alt\n",
       "1280       chrX_KI270913v1_alt\n",
       "1281                      chrY\n",
       "1282                      chrY\n",
       "1283                      chrY\n",
       "1284                      chrY\n",
       "1285                      chrY\n",
       "1286                      chrY\n",
       "1287                      chrY\n",
       "1288                      chrY\n",
       "1289                      chrY\n",
       "1290                      chrY\n",
       "1291                      chrY\n",
       "1292    chrY_KI270740v1_random\n",
       "Name: chrom, dtype: object"
      ]
     },
     "execution_count": 9,
     "metadata": {},
     "output_type": "execute_result"
    }
   ],
   "source": [
    "ideo.chrom"
   ]
  },
  {
   "cell_type": "code",
   "execution_count": null,
   "metadata": {
    "collapsed": true
   },
   "outputs": [],
   "source": []
  }
 ],
 "metadata": {
  "kernelspec": {
   "display_name": "Python 2",
   "language": "python",
   "name": "python2"
  },
  "language_info": {
   "codemirror_mode": {
    "name": "ipython",
    "version": 2
   },
   "file_extension": ".py",
   "mimetype": "text/x-python",
   "name": "python",
   "nbconvert_exporter": "python",
   "pygments_lexer": "ipython2",
   "version": "2.7.10"
  }
 },
 "nbformat": 4,
 "nbformat_minor": 0
}
