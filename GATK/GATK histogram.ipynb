{
 "cells": [
  {
   "cell_type": "code",
   "execution_count": 1,
   "metadata": {
    "collapsed": false
   },
   "outputs": [
    {
     "data": {
      "text/html": [
       "<div>\n",
       "<table border=\"1\" class=\"dataframe\">\n",
       "  <thead>\n",
       "    <tr style=\"text-align: right;\">\n",
       "      <th></th>\n",
       "      <th>Read ID</th>\n",
       "      <th>chromosome</th>\n",
       "      <th>Base #</th>\n",
       "      <th>Percent Match</th>\n",
       "      <th>=</th>\n",
       "      <th>Type</th>\n",
       "    </tr>\n",
       "    <tr>\n",
       "      <th>Read ID</th>\n",
       "      <th></th>\n",
       "      <th></th>\n",
       "      <th></th>\n",
       "      <th></th>\n",
       "      <th></th>\n",
       "      <th></th>\n",
       "    </tr>\n",
       "  </thead>\n",
       "  <tbody>\n",
       "    <tr>\n",
       "      <th>C2D1VACXX_0:1:1103:1366955:0</th>\n",
       "      <td>C2D1VACXX_0:1:1103:1366955:0</td>\n",
       "      <td>chrY</td>\n",
       "      <td>2649998</td>\n",
       "      <td>100M</td>\n",
       "      <td>=</td>\n",
       "      <td>no match</td>\n",
       "    </tr>\n",
       "    <tr>\n",
       "      <th>C2D1VACXX_0:2:1106:1617232:0</th>\n",
       "      <td>C2D1VACXX_0:2:1106:1617232:0</td>\n",
       "      <td>chrY</td>\n",
       "      <td>2650086</td>\n",
       "      <td>100M</td>\n",
       "      <td>=</td>\n",
       "      <td>no match</td>\n",
       "    </tr>\n",
       "    <tr>\n",
       "      <th>C2D1VACXX_0:2:2302:2349408:0</th>\n",
       "      <td>C2D1VACXX_0:2:2302:2349408:0</td>\n",
       "      <td>chrY</td>\n",
       "      <td>2650221</td>\n",
       "      <td>100M</td>\n",
       "      <td>=</td>\n",
       "      <td>no match</td>\n",
       "    </tr>\n",
       "    <tr>\n",
       "      <th>C2D1VACXX_0:2:2107:2165447:0</th>\n",
       "      <td>C2D1VACXX_0:2:2107:2165447:0</td>\n",
       "      <td>chrY</td>\n",
       "      <td>2650238</td>\n",
       "      <td>100M</td>\n",
       "      <td>=</td>\n",
       "      <td>no match</td>\n",
       "    </tr>\n",
       "    <tr>\n",
       "      <th>C2D1VACXX_0:1:2212:1849009:0</th>\n",
       "      <td>C2D1VACXX_0:1:2212:1849009:0</td>\n",
       "      <td>chrY</td>\n",
       "      <td>2650240</td>\n",
       "      <td>100M</td>\n",
       "      <td>=</td>\n",
       "      <td>no match</td>\n",
       "    </tr>\n",
       "  </tbody>\n",
       "</table>\n",
       "</div>"
      ],
      "text/plain": [
       "                                                   Read ID chromosome  \\\n",
       "Read ID                                                                 \n",
       "C2D1VACXX_0:1:1103:1366955:0  C2D1VACXX_0:1:1103:1366955:0       chrY   \n",
       "C2D1VACXX_0:2:1106:1617232:0  C2D1VACXX_0:2:1106:1617232:0       chrY   \n",
       "C2D1VACXX_0:2:2302:2349408:0  C2D1VACXX_0:2:2302:2349408:0       chrY   \n",
       "C2D1VACXX_0:2:2107:2165447:0  C2D1VACXX_0:2:2107:2165447:0       chrY   \n",
       "C2D1VACXX_0:1:2212:1849009:0  C2D1VACXX_0:1:2212:1849009:0       chrY   \n",
       "\n",
       "                               Base # Percent Match  =      Type  \n",
       "Read ID                                                           \n",
       "C2D1VACXX_0:1:1103:1366955:0  2649998          100M  =  no match  \n",
       "C2D1VACXX_0:2:1106:1617232:0  2650086          100M  =  no match  \n",
       "C2D1VACXX_0:2:2302:2349408:0  2650221          100M  =  no match  \n",
       "C2D1VACXX_0:2:2107:2165447:0  2650238          100M  =  no match  \n",
       "C2D1VACXX_0:1:2212:1849009:0  2650240          100M  =  no match  "
      ]
     },
     "execution_count": 1,
     "metadata": {},
     "output_type": "execute_result"
    }
   ],
   "source": [
    "import matplotlib.pyplot as plt\n",
    "import pandas\n",
    "\n",
    "col_names = ['Read ID', 'chromosome', 'Base #', 'Percent Match', '=', 'Type' ]\n",
    "no_match_reads = pandas.read_table( \n",
    "    'LP6005636-DNA_H02.no_match.sorted.txt', #the file we are reading in\n",
    "    names= col_names)#names of the columns\n",
    " \n",
    "no_match_reads.set_index(\"Read ID\", drop=False, inplace = True) #sets index to first col\n",
    "no_match_reads.head()"
   ]
  },
  {
   "cell_type": "code",
   "execution_count": 2,
   "metadata": {
    "collapsed": false
   },
   "outputs": [
    {
     "data": {
      "text/plain": [
       "59030559"
      ]
     },
     "execution_count": 2,
     "metadata": {},
     "output_type": "execute_result"
    }
   ],
   "source": [
    "no_match_reads['Base #'].max()"
   ]
  },
  {
   "cell_type": "code",
   "execution_count": 4,
   "metadata": {
    "collapsed": false
   },
   "outputs": [],
   "source": [
    "#step histogram\n",
    "n, bins, patches = plt.hist(no_match_reads['Base #'], bins = 59031, histtype = 'bar')\n",
    "plt.xlabel(\"Bins of reads at each location\")\n",
    "plt.ylabel(\"# of reads in each bin\")\n",
    "plt.axis([0, 59031000, 0, 3000])\n",
    "plt.title(\"Bar Histogram and ideogram of chr Y\")\n",
    "plt.show()"
   ]
  },
  {
   "cell_type": "code",
   "execution_count": null,
   "metadata": {
    "collapsed": true
   },
   "outputs": [],
   "source": []
  }
 ],
 "metadata": {
  "kernelspec": {
   "display_name": "Python 2",
   "language": "python",
   "name": "python2"
  },
  "language_info": {
   "codemirror_mode": {
    "name": "ipython",
    "version": 2
   },
   "file_extension": ".py",
   "mimetype": "text/x-python",
   "name": "python",
   "nbconvert_exporter": "python",
   "pygments_lexer": "ipython2",
   "version": "2.7.10"
  }
 },
 "nbformat": 4,
 "nbformat_minor": 0
}
