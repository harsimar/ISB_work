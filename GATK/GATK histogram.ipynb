{
 "cells": [
  {
   "cell_type": "code",
   "execution_count": 1,
   "metadata": {
    "collapsed": false
   },
   "outputs": [
    {
     "data": {
      "text/html": [
       "<div>\n",
       "<table border=\"1\" class=\"dataframe\">\n",
       "  <thead>\n",
       "    <tr style=\"text-align: right;\">\n",
       "      <th></th>\n",
       "      <th>Read ID</th>\n",
       "      <th>chromosome</th>\n",
       "      <th>Base #</th>\n",
       "      <th>Percent Match</th>\n",
       "      <th>=</th>\n",
       "      <th>Type</th>\n",
       "    </tr>\n",
       "    <tr>\n",
       "      <th>Read ID</th>\n",
       "      <th></th>\n",
       "      <th></th>\n",
       "      <th></th>\n",
       "      <th></th>\n",
       "      <th></th>\n",
       "      <th></th>\n",
       "    </tr>\n",
       "  </thead>\n",
       "  <tbody>\n",
       "    <tr>\n",
       "      <th>C2D1RACXX_1:8:1101:1001065:0</th>\n",
       "      <td>C2D1RACXX_1:8:1101:1001065:0</td>\n",
       "      <td>chrY</td>\n",
       "      <td>6116153</td>\n",
       "      <td>100M</td>\n",
       "      <td>=</td>\n",
       "      <td>no match</td>\n",
       "    </tr>\n",
       "    <tr>\n",
       "      <th>C2D1RACXX_1:8:1101:1001257:0</th>\n",
       "      <td>C2D1RACXX_1:8:1101:1001257:0</td>\n",
       "      <td>chrY</td>\n",
       "      <td>24332102</td>\n",
       "      <td>100M</td>\n",
       "      <td>=</td>\n",
       "      <td>no match</td>\n",
       "    </tr>\n",
       "    <tr>\n",
       "      <th>C2D1RACXX_1:8:1101:1001780:0</th>\n",
       "      <td>C2D1RACXX_1:8:1101:1001780:0</td>\n",
       "      <td>chrY</td>\n",
       "      <td>24092457</td>\n",
       "      <td>100M</td>\n",
       "      <td>=</td>\n",
       "      <td>no match</td>\n",
       "    </tr>\n",
       "    <tr>\n",
       "      <th>C2D1RACXX_1:8:1101:1003475:0</th>\n",
       "      <td>C2D1RACXX_1:8:1101:1003475:0</td>\n",
       "      <td>chrY</td>\n",
       "      <td>21684099</td>\n",
       "      <td>100M</td>\n",
       "      <td>=</td>\n",
       "      <td>no match</td>\n",
       "    </tr>\n",
       "    <tr>\n",
       "      <th>C2D1RACXX_1:8:1101:1003506:0</th>\n",
       "      <td>C2D1RACXX_1:8:1101:1003506:0</td>\n",
       "      <td>chrY</td>\n",
       "      <td>20632463</td>\n",
       "      <td>100M</td>\n",
       "      <td>=</td>\n",
       "      <td>no match</td>\n",
       "    </tr>\n",
       "  </tbody>\n",
       "</table>\n",
       "</div>"
      ],
      "text/plain": [
       "                                                   Read ID chromosome  \\\n",
       "Read ID                                                                 \n",
       "C2D1RACXX_1:8:1101:1001065:0  C2D1RACXX_1:8:1101:1001065:0       chrY   \n",
       "C2D1RACXX_1:8:1101:1001257:0  C2D1RACXX_1:8:1101:1001257:0       chrY   \n",
       "C2D1RACXX_1:8:1101:1001780:0  C2D1RACXX_1:8:1101:1001780:0       chrY   \n",
       "C2D1RACXX_1:8:1101:1003475:0  C2D1RACXX_1:8:1101:1003475:0       chrY   \n",
       "C2D1RACXX_1:8:1101:1003506:0  C2D1RACXX_1:8:1101:1003506:0       chrY   \n",
       "\n",
       "                                Base # Percent Match  =      Type  \n",
       "Read ID                                                            \n",
       "C2D1RACXX_1:8:1101:1001065:0   6116153          100M  =  no match  \n",
       "C2D1RACXX_1:8:1101:1001257:0  24332102          100M  =  no match  \n",
       "C2D1RACXX_1:8:1101:1001780:0  24092457          100M  =  no match  \n",
       "C2D1RACXX_1:8:1101:1003475:0  21684099          100M  =  no match  \n",
       "C2D1RACXX_1:8:1101:1003506:0  20632463          100M  =  no match  "
      ]
     },
     "execution_count": 1,
     "metadata": {},
     "output_type": "execute_result"
    }
   ],
   "source": [
    "import matplotlib.pyplot as plt\n",
    "import pandas\n",
    "\n",
    "col_names = ['Read ID', 'chromosome', 'Base #', 'Percent Match', '=', 'Type' ]\n",
    "no_match_reads = pandas.read_table( \n",
    "    'LP6005636-DNA_H02.no_match.txt', #the file we are reading in\n",
    "    names= col_names)#names of the columns\n",
    " \n",
    "no_match_reads.set_index(\"Read ID\", drop=False, inplace = True) #sets index to first col\n",
    "no_match_reads.head()"
   ]
  },
  {
   "cell_type": "code",
   "execution_count": 2,
   "metadata": {
    "collapsed": false
   },
   "outputs": [
    {
     "data": {
      "text/plain": [
       "59030559"
      ]
     },
     "execution_count": 2,
     "metadata": {},
     "output_type": "execute_result"
    }
   ],
   "source": [
    "no_match_reads['Base #'].max()"
   ]
  },
  {
   "cell_type": "code",
   "execution_count": 3,
   "metadata": {
    "collapsed": false
   },
   "outputs": [],
   "source": [
    "#step histogram\n",
    "n, bins, patches = plt.hist(no_match_reads['Base #'], bins = 59031, histtype = 'bar')\n",
    "plt.xlabel(\"Bins of reads at each location\")\n",
    "plt.ylabel(\"# of reads in each bin\")\n",
    "plt.yscale(\"log\")\n",
    "#plt.axis([0, 59031000, 0, 3000])\n",
    "plt.title(\"Bar Histogram and ideogram of chr Y\")\n",
    "plt.show()"
   ]
  },
  {
   "cell_type": "code",
   "execution_count": null,
   "metadata": {
    "collapsed": true
   },
   "outputs": [],
   "source": []
  }
 ],
 "metadata": {
  "kernelspec": {
   "display_name": "Python 2",
   "language": "python",
   "name": "python2"
  },
  "language_info": {
   "codemirror_mode": {
    "name": "ipython",
    "version": 2
   },
   "file_extension": ".py",
   "mimetype": "text/x-python",
   "name": "python",
   "nbconvert_exporter": "python",
   "pygments_lexer": "ipython2",
   "version": "2.7.10"
  }
 },
 "nbformat": 4,
 "nbformat_minor": 0
}
