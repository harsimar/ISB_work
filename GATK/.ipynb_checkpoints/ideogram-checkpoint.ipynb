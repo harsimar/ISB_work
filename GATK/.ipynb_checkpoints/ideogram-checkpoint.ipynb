{
 "cells": [
  {
   "cell_type": "code",
   "execution_count": 2,
   "metadata": {
    "collapsed": false
   },
   "outputs": [
    {
     "data": {
      "text/html": [
       "<div>\n",
       "<table border=\"1\" class=\"dataframe\">\n",
       "  <thead>\n",
       "    <tr style=\"text-align: right;\">\n",
       "      <th></th>\n",
       "      <th>chromosome</th>\n",
       "      <th>Y Starting Base Position</th>\n",
       "      <th>Percent Match</th>\n",
       "      <th>Second Position</th>\n",
       "      <th>ChangeTo</th>\n",
       "      <th>Starting Base Position</th>\n",
       "      <th>Percent Match2</th>\n",
       "      <th>Second Position2</th>\n",
       "    </tr>\n",
       "    <tr>\n",
       "      <th>Read ID</th>\n",
       "      <th></th>\n",
       "      <th></th>\n",
       "      <th></th>\n",
       "      <th></th>\n",
       "      <th></th>\n",
       "      <th></th>\n",
       "      <th></th>\n",
       "      <th></th>\n",
       "    </tr>\n",
       "  </thead>\n",
       "  <tbody>\n",
       "    <tr>\n",
       "      <th>C2D1RACXX_1:8:1101:1000601:0</th>\n",
       "      <td>chrY</td>\n",
       "      <td>13484087</td>\n",
       "      <td>100M</td>\n",
       "      <td>=</td>\n",
       "      <td>chr18</td>\n",
       "      <td>108134</td>\n",
       "      <td>38S44M18S</td>\n",
       "      <td>=</td>\n",
       "    </tr>\n",
       "    <tr>\n",
       "      <th>C2D1RACXX_1:8:1101:1000601:0</th>\n",
       "      <td>chrY</td>\n",
       "      <td>13484087</td>\n",
       "      <td>100M</td>\n",
       "      <td>=</td>\n",
       "      <td>chr18</td>\n",
       "      <td>107998</td>\n",
       "      <td>5S91M4S</td>\n",
       "      <td>=</td>\n",
       "    </tr>\n",
       "    <tr>\n",
       "      <th>C2D1RACXX_1:8:1101:1000739:0</th>\n",
       "      <td>chrY</td>\n",
       "      <td>13664682</td>\n",
       "      <td>3S84M13S</td>\n",
       "      <td>=</td>\n",
       "      <td>chr4</td>\n",
       "      <td>49105559</td>\n",
       "      <td>48M5D52M</td>\n",
       "      <td>chr21</td>\n",
       "    </tr>\n",
       "    <tr>\n",
       "      <th>C2D1RACXX_1:8:1101:1000739:0</th>\n",
       "      <td>chrY</td>\n",
       "      <td>13664682</td>\n",
       "      <td>3S84M13S</td>\n",
       "      <td>=</td>\n",
       "      <td>chr21</td>\n",
       "      <td>10776646</td>\n",
       "      <td>56M44S</td>\n",
       "      <td>chr4</td>\n",
       "    </tr>\n",
       "    <tr>\n",
       "      <th>C2D1RACXX_1:8:1101:1001197:0</th>\n",
       "      <td>chrY</td>\n",
       "      <td>26046243</td>\n",
       "      <td>100M</td>\n",
       "      <td>=</td>\n",
       "      <td>chr10</td>\n",
       "      <td>59885544</td>\n",
       "      <td>61S25M14S</td>\n",
       "      <td>=</td>\n",
       "    </tr>\n",
       "  </tbody>\n",
       "</table>\n",
       "</div>"
      ],
      "text/plain": [
       "                             chromosome  Y Starting Base Position  \\\n",
       "Read ID                                                             \n",
       "C2D1RACXX_1:8:1101:1000601:0       chrY                  13484087   \n",
       "C2D1RACXX_1:8:1101:1000601:0       chrY                  13484087   \n",
       "C2D1RACXX_1:8:1101:1000739:0       chrY                  13664682   \n",
       "C2D1RACXX_1:8:1101:1000739:0       chrY                  13664682   \n",
       "C2D1RACXX_1:8:1101:1001197:0       chrY                  26046243   \n",
       "\n",
       "                             Percent Match Second Position ChangeTo  \\\n",
       "Read ID                                                               \n",
       "C2D1RACXX_1:8:1101:1000601:0          100M               =    chr18   \n",
       "C2D1RACXX_1:8:1101:1000601:0          100M               =    chr18   \n",
       "C2D1RACXX_1:8:1101:1000739:0      3S84M13S               =     chr4   \n",
       "C2D1RACXX_1:8:1101:1000739:0      3S84M13S               =    chr21   \n",
       "C2D1RACXX_1:8:1101:1001197:0          100M               =    chr10   \n",
       "\n",
       "                              Starting Base Position Percent Match2  \\\n",
       "Read ID                                                               \n",
       "C2D1RACXX_1:8:1101:1000601:0                  108134      38S44M18S   \n",
       "C2D1RACXX_1:8:1101:1000601:0                  107998        5S91M4S   \n",
       "C2D1RACXX_1:8:1101:1000739:0                49105559       48M5D52M   \n",
       "C2D1RACXX_1:8:1101:1000739:0                10776646         56M44S   \n",
       "C2D1RACXX_1:8:1101:1001197:0                59885544      61S25M14S   \n",
       "\n",
       "                             Second Position2  \n",
       "Read ID                                        \n",
       "C2D1RACXX_1:8:1101:1000601:0                =  \n",
       "C2D1RACXX_1:8:1101:1000601:0                =  \n",
       "C2D1RACXX_1:8:1101:1000739:0            chr21  \n",
       "C2D1RACXX_1:8:1101:1000739:0             chr4  \n",
       "C2D1RACXX_1:8:1101:1001197:0                =  "
      ]
     },
     "execution_count": 2,
     "metadata": {},
     "output_type": "execute_result"
    }
   ],
   "source": [
    "import matplotlib.pyplot as plt\n",
    "import pandas\n",
    "\n",
    "#chrom changes file\n",
    "col_names = ['Read ID', 'chromosome', 'Y Starting Base Position', 'Percent Match', 'Second Position', 'ChangeTo', 'Starting Base Position', 'Percent Match2', 'Second Position2']\n",
    "chrom_changes = pandas.read_table( \n",
    "    'LP6005636-DNA_H02.chrom_changes.txt', #the file we are reading in\n",
    "    names= col_names)#names of the columns\n",
    " \n",
    "chrom_changes.set_index(\"Read ID\", drop=True, inplace = True) #sets index to first col\n",
    "chrom_changes.head()\n",
    "#chrom_changes.loc[chrom_changes['Second Position'] != \"=\"] ask denise about this"
   ]
  },
  {
   "cell_type": "code",
   "execution_count": 3,
   "metadata": {
    "collapsed": false
   },
   "outputs": [
    {
     "data": {
      "text/html": [
       "<div>\n",
       "<table border=\"1\" class=\"dataframe\">\n",
       "  <thead>\n",
       "    <tr style=\"text-align: right;\">\n",
       "      <th></th>\n",
       "      <th>Read ID</th>\n",
       "      <th>chromosome</th>\n",
       "      <th>Y Starting Base Position</th>\n",
       "      <th>Percent Match</th>\n",
       "      <th>Second position</th>\n",
       "      <th>Genome w/out y</th>\n",
       "    </tr>\n",
       "    <tr>\n",
       "      <th>Read ID</th>\n",
       "      <th></th>\n",
       "      <th></th>\n",
       "      <th></th>\n",
       "      <th></th>\n",
       "      <th></th>\n",
       "      <th></th>\n",
       "    </tr>\n",
       "  </thead>\n",
       "  <tbody>\n",
       "    <tr>\n",
       "      <th>C2D1VACXX_0:1:1103:1366955:0</th>\n",
       "      <td>C2D1VACXX_0:1:1103:1366955:0</td>\n",
       "      <td>chrY</td>\n",
       "      <td>2649998</td>\n",
       "      <td>100M</td>\n",
       "      <td>=</td>\n",
       "      <td>no match</td>\n",
       "    </tr>\n",
       "    <tr>\n",
       "      <th>C2D1VACXX_0:2:1106:1617232:0</th>\n",
       "      <td>C2D1VACXX_0:2:1106:1617232:0</td>\n",
       "      <td>chrY</td>\n",
       "      <td>2650086</td>\n",
       "      <td>100M</td>\n",
       "      <td>=</td>\n",
       "      <td>no match</td>\n",
       "    </tr>\n",
       "    <tr>\n",
       "      <th>C2D1VACXX_0:2:2302:2349408:0</th>\n",
       "      <td>C2D1VACXX_0:2:2302:2349408:0</td>\n",
       "      <td>chrY</td>\n",
       "      <td>2650221</td>\n",
       "      <td>100M</td>\n",
       "      <td>=</td>\n",
       "      <td>no match</td>\n",
       "    </tr>\n",
       "    <tr>\n",
       "      <th>C2D1VACXX_0:2:2107:2165447:0</th>\n",
       "      <td>C2D1VACXX_0:2:2107:2165447:0</td>\n",
       "      <td>chrY</td>\n",
       "      <td>2650238</td>\n",
       "      <td>100M</td>\n",
       "      <td>=</td>\n",
       "      <td>no match</td>\n",
       "    </tr>\n",
       "    <tr>\n",
       "      <th>C2D1VACXX_0:1:2212:1849009:0</th>\n",
       "      <td>C2D1VACXX_0:1:2212:1849009:0</td>\n",
       "      <td>chrY</td>\n",
       "      <td>2650240</td>\n",
       "      <td>100M</td>\n",
       "      <td>=</td>\n",
       "      <td>no match</td>\n",
       "    </tr>\n",
       "  </tbody>\n",
       "</table>\n",
       "</div>"
      ],
      "text/plain": [
       "                                                   Read ID chromosome  \\\n",
       "Read ID                                                                 \n",
       "C2D1VACXX_0:1:1103:1366955:0  C2D1VACXX_0:1:1103:1366955:0       chrY   \n",
       "C2D1VACXX_0:2:1106:1617232:0  C2D1VACXX_0:2:1106:1617232:0       chrY   \n",
       "C2D1VACXX_0:2:2302:2349408:0  C2D1VACXX_0:2:2302:2349408:0       chrY   \n",
       "C2D1VACXX_0:2:2107:2165447:0  C2D1VACXX_0:2:2107:2165447:0       chrY   \n",
       "C2D1VACXX_0:1:2212:1849009:0  C2D1VACXX_0:1:2212:1849009:0       chrY   \n",
       "\n",
       "                              Y Starting Base Position Percent Match  \\\n",
       "Read ID                                                                \n",
       "C2D1VACXX_0:1:1103:1366955:0                   2649998          100M   \n",
       "C2D1VACXX_0:2:1106:1617232:0                   2650086          100M   \n",
       "C2D1VACXX_0:2:2302:2349408:0                   2650221          100M   \n",
       "C2D1VACXX_0:2:2107:2165447:0                   2650238          100M   \n",
       "C2D1VACXX_0:1:2212:1849009:0                   2650240          100M   \n",
       "\n",
       "                             Second position Genome w/out y  \n",
       "Read ID                                                      \n",
       "C2D1VACXX_0:1:1103:1366955:0               =       no match  \n",
       "C2D1VACXX_0:2:1106:1617232:0               =       no match  \n",
       "C2D1VACXX_0:2:2302:2349408:0               =       no match  \n",
       "C2D1VACXX_0:2:2107:2165447:0               =       no match  \n",
       "C2D1VACXX_0:1:2212:1849009:0               =       no match  "
      ]
     },
     "execution_count": 3,
     "metadata": {},
     "output_type": "execute_result"
    }
   ],
   "source": [
    "#no match file\n",
    "col_names2 = ['Read ID', 'chromosome', 'Y Starting Base Position', 'Percent Match', 'Second position', 'Genome w/out y' ]\n",
    "no_match_reads = pandas.read_table( \n",
    "    'LP6005636-DNA_H02.no_match.sorted.txt', #the file we are reading in\n",
    "    names= col_names2)#names of the columns\n",
    " \n",
    "no_match_reads.set_index(\"Read ID\", drop=False, inplace = True) #sets index to first col\n",
    "no_match_reads.head()\n",
    "#no_match_reads.loc[no_match_reads['Second position'] != \"=\"] checking to make sure there aren't extra dots to plot"
   ]
  },
  {
   "cell_type": "code",
   "execution_count": 4,
   "metadata": {
    "collapsed": false
   },
   "outputs": [],
   "source": [
    "# removing duplicate reads on the y from no match file\n",
    "y_locations = no_match_reads['Y Starting Base Position']\n",
    "#unique_y_locations = []\n",
    "#for index, position in y_locations.iteritems():\n",
    "    #if position not in unique_y_locations:\n",
    "       # unique_y_locations.append(position)"
   ]
  },
  {
   "cell_type": "code",
   "execution_count": 7,
   "metadata": {
    "collapsed": false
   },
   "outputs": [
    {
     "name": "stdout",
     "output_type": "stream",
     "text": [
      "(623724, 'y_locations in no_match')\n"
     ]
    }
   ],
   "source": [
    "#checking for duplicate rows and values\n",
    "print(len(y_locations) , \"y_locations in no_match\")\n",
    "#print(len(unique_y_locations) , \"unique_y_locations in no_match\")\n",
    "#print(len(chrom_changes) , \"chrom_changes\")\n",
    "#chrom_changes_unique = chrom_changes.drop_duplicates()\n",
    "#print(len(chrom_changes_unique) , \"chrom_changes_unique\")"
   ]
  },
  {
   "cell_type": "code",
   "execution_count": 41,
   "metadata": {
    "collapsed": false
   },
   "outputs": [],
   "source": [
    "#plotting the y chromosome ideogram\n",
    "ax1 = plt.subplot(211)\n",
    "ax1.set_title(\"An ideogram of read locations for chromsome Y ~ no matches file\")\n",
    "ax1.set_ylabel(\"Chromosome\")\n",
    "ax1.set_xlabel(\"Starting BP location of read\")\n",
    "ax1.set_yticklabels([\"\", \"\", \"Chr Y\", \"\", \"\"])\n",
    "ax1.set_xlim(2649500, 2652000)\n",
    "ax1.set_ylim(0,2)\n",
    "ax1.get_xaxis().get_major_formatter().set_useOffset(False)\n",
    "#ax1.set_xbound(lower=2649500, upper=2652000)\n",
    "#plt.axis([2649500, 2652000, 0, 2])\n",
    "#plt.xticks(range(2649500, 2652000, 500), range(2649500, 2652000, 500))\n",
    "#plt.minorticks_on()\n",
    "\n",
    "#this only plots the first 100 points, because run time was driving me crazy\n",
    "for index, value in y_locations[0:100].iteritems(): #will change to unique y later, with the full set\n",
    "    plt.plot(value, 1, 'b.')\n",
    "plt.show()\n"
   ]
  },
  {
   "cell_type": "code",
   "execution_count": 15,
   "metadata": {
    "collapsed": false
   },
   "outputs": [
    {
     "name": "stdout",
     "output_type": "stream",
     "text": [
      "2651642\n",
      "2649998\n"
     ]
    }
   ],
   "source": [
    "print(y_locations[0:100].max())\n",
    "print(y_locations[0:100].min())"
   ]
  },
  {
   "cell_type": "code",
   "execution_count": null,
   "metadata": {
    "collapsed": true
   },
   "outputs": [],
   "source": [
    "# lengths of chromosomes taken from https://genome.ucsc.edu/goldenpath/help/hg19.chrom.sizes\n",
    "# lengths listed in order from 1-22, X, M, Y\n",
    "chr_lengths = [249250621, 243199373,198022430,191154276, 180915260, \n",
    "               171115067, 159138663, 146364022, 141213431, \n",
    "               135534747, 135006516, 133851895, 115169878, 107349540, \n",
    "               102531392, 90354753, 81195210, 78077248, 59128983,\n",
    "               63025520, 48129895, 51304566, 155270560, 16571, 59373566]  "
   ]
  },
  {
   "cell_type": "code",
   "execution_count": null,
   "metadata": {
    "collapsed": false
   },
   "outputs": [],
   "source": [
    "#creating a dictionary that links chrom labels to y coordinates\n",
    "chrom_list = ['chr%s' % i for i in range(1, 23) + ['X', 'M', 'Y']]\n",
    "chrom_dict = {}\n",
    "for i, chrom in enumerate(chrom_list):\n",
    "    chrom_dict[chrom] = i + 1"
   ]
  },
  {
   "cell_type": "code",
   "execution_count": null,
   "metadata": {
    "collapsed": false
   },
   "outputs": [],
   "source": [
    "#plotting the lines for the chrom changes ideogram\n",
    "ax2 = plt.subplot(212)\n",
    "ax2.set_title('Ideogram for change chroms file')\n",
    "ax2.set_xlabel('Starting Base Position')\n",
    "ax2.set_ylabel('Chromosome')\n",
    "ax2.set_ylim(0, 26)\n",
    "#ax2.set_yticklabels(chrom_list)\n",
    "plt.yticks(range(1, 27, 1), chrom_list )\n",
    "for i in range(1, 26):\n",
    "    plt.hlines(i, 0, chr_lengths[i - 1], linestyles='solid')\n",
    "#plt.show()"
   ]
  },
  {
   "cell_type": "code",
   "execution_count": null,
   "metadata": {
    "collapsed": false
   },
   "outputs": [],
   "source": [
    "#iterating over each row of chrom changes so that points can be plotted onto ideogram\n",
    "\n",
    "#because the runtime is driving me crazy, testing a subset\n",
    "subset = chrom_changes[0:10]\n",
    "for index, row in subset.iterrows():\n",
    "    #plotting chrY dot\n",
    "    plt.plot(row['Y Starting Base Position'], chrom_dict['chrY'], 'b.')\n",
    "    #plotting changed read dot\n",
    "    plt.plot(row['Starting Base Position'], chrom_dict[row['ChangeTo']], 'b.')\n",
    "plt.show()   "
   ]
  },
  {
   "cell_type": "code",
   "execution_count": null,
   "metadata": {
    "collapsed": false
   },
   "outputs": [],
   "source": [
    "subset.head()\n"
   ]
  },
  {
   "cell_type": "code",
   "execution_count": null,
   "metadata": {
    "collapsed": true
   },
   "outputs": [],
   "source": []
  }
 ],
 "metadata": {
  "kernelspec": {
   "display_name": "Python 2",
   "language": "python",
   "name": "python2"
  },
  "language_info": {
   "codemirror_mode": {
    "name": "ipython",
    "version": 2
   },
   "file_extension": ".py",
   "mimetype": "text/x-python",
   "name": "python",
   "nbconvert_exporter": "python",
   "pygments_lexer": "ipython2",
   "version": "2.7.10"
  }
 },
 "nbformat": 4,
 "nbformat_minor": 0
}
