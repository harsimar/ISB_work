{
 "cells": [
  {
   "cell_type": "code",
   "execution_count": 1,
   "metadata": {
    "collapsed": false
   },
   "outputs": [
    {
     "data": {
      "text/html": [
       "<div>\n",
       "<table border=\"1\" class=\"dataframe\">\n",
       "  <thead>\n",
       "    <tr style=\"text-align: right;\">\n",
       "      <th></th>\n",
       "      <th>chromosome</th>\n",
       "      <th>Y Starting Base Position</th>\n",
       "      <th>Percent Match</th>\n",
       "      <th>Second Position</th>\n",
       "      <th>ChangeTo</th>\n",
       "      <th>Starting Base Position</th>\n",
       "      <th>Percent Match2</th>\n",
       "      <th>Second Position2</th>\n",
       "    </tr>\n",
       "    <tr>\n",
       "      <th>Read ID</th>\n",
       "      <th></th>\n",
       "      <th></th>\n",
       "      <th></th>\n",
       "      <th></th>\n",
       "      <th></th>\n",
       "      <th></th>\n",
       "      <th></th>\n",
       "      <th></th>\n",
       "    </tr>\n",
       "  </thead>\n",
       "  <tbody>\n",
       "    <tr>\n",
       "      <th>C2D1RACXX_1:8:1101:1000601:0</th>\n",
       "      <td>chrY</td>\n",
       "      <td>13484087</td>\n",
       "      <td>100M</td>\n",
       "      <td>=</td>\n",
       "      <td>chr18</td>\n",
       "      <td>108134</td>\n",
       "      <td>38S44M18S</td>\n",
       "      <td>=</td>\n",
       "    </tr>\n",
       "    <tr>\n",
       "      <th>C2D1RACXX_1:8:1101:1000601:0</th>\n",
       "      <td>chrY</td>\n",
       "      <td>13484087</td>\n",
       "      <td>100M</td>\n",
       "      <td>=</td>\n",
       "      <td>chr18</td>\n",
       "      <td>107998</td>\n",
       "      <td>5S91M4S</td>\n",
       "      <td>=</td>\n",
       "    </tr>\n",
       "    <tr>\n",
       "      <th>C2D1RACXX_1:8:1101:1000739:0</th>\n",
       "      <td>chrY</td>\n",
       "      <td>13664682</td>\n",
       "      <td>3S84M13S</td>\n",
       "      <td>=</td>\n",
       "      <td>chr4</td>\n",
       "      <td>49105559</td>\n",
       "      <td>48M5D52M</td>\n",
       "      <td>chr21</td>\n",
       "    </tr>\n",
       "    <tr>\n",
       "      <th>C2D1RACXX_1:8:1101:1000739:0</th>\n",
       "      <td>chrY</td>\n",
       "      <td>13664682</td>\n",
       "      <td>3S84M13S</td>\n",
       "      <td>=</td>\n",
       "      <td>chr21</td>\n",
       "      <td>10776646</td>\n",
       "      <td>56M44S</td>\n",
       "      <td>chr4</td>\n",
       "    </tr>\n",
       "    <tr>\n",
       "      <th>C2D1RACXX_1:8:1101:1001197:0</th>\n",
       "      <td>chrY</td>\n",
       "      <td>26046243</td>\n",
       "      <td>100M</td>\n",
       "      <td>=</td>\n",
       "      <td>chr10</td>\n",
       "      <td>59885544</td>\n",
       "      <td>61S25M14S</td>\n",
       "      <td>=</td>\n",
       "    </tr>\n",
       "  </tbody>\n",
       "</table>\n",
       "</div>"
      ],
      "text/plain": [
       "                             chromosome  Y Starting Base Position  \\\n",
       "Read ID                                                             \n",
       "C2D1RACXX_1:8:1101:1000601:0       chrY                  13484087   \n",
       "C2D1RACXX_1:8:1101:1000601:0       chrY                  13484087   \n",
       "C2D1RACXX_1:8:1101:1000739:0       chrY                  13664682   \n",
       "C2D1RACXX_1:8:1101:1000739:0       chrY                  13664682   \n",
       "C2D1RACXX_1:8:1101:1001197:0       chrY                  26046243   \n",
       "\n",
       "                             Percent Match Second Position ChangeTo  \\\n",
       "Read ID                                                               \n",
       "C2D1RACXX_1:8:1101:1000601:0          100M               =    chr18   \n",
       "C2D1RACXX_1:8:1101:1000601:0          100M               =    chr18   \n",
       "C2D1RACXX_1:8:1101:1000739:0      3S84M13S               =     chr4   \n",
       "C2D1RACXX_1:8:1101:1000739:0      3S84M13S               =    chr21   \n",
       "C2D1RACXX_1:8:1101:1001197:0          100M               =    chr10   \n",
       "\n",
       "                              Starting Base Position Percent Match2  \\\n",
       "Read ID                                                               \n",
       "C2D1RACXX_1:8:1101:1000601:0                  108134      38S44M18S   \n",
       "C2D1RACXX_1:8:1101:1000601:0                  107998        5S91M4S   \n",
       "C2D1RACXX_1:8:1101:1000739:0                49105559       48M5D52M   \n",
       "C2D1RACXX_1:8:1101:1000739:0                10776646         56M44S   \n",
       "C2D1RACXX_1:8:1101:1001197:0                59885544      61S25M14S   \n",
       "\n",
       "                             Second Position2  \n",
       "Read ID                                        \n",
       "C2D1RACXX_1:8:1101:1000601:0                =  \n",
       "C2D1RACXX_1:8:1101:1000601:0                =  \n",
       "C2D1RACXX_1:8:1101:1000739:0            chr21  \n",
       "C2D1RACXX_1:8:1101:1000739:0             chr4  \n",
       "C2D1RACXX_1:8:1101:1001197:0                =  "
      ]
     },
     "execution_count": 1,
     "metadata": {},
     "output_type": "execute_result"
    }
   ],
   "source": [
    "import matplotlib.pyplot as plt\n",
    "from matplotlib.backends.backend_pdf import PdfPages\n",
    "import pandas\n",
    "\n",
    "#chrom changes file\n",
    "col_names = ['Read ID', 'chromosome', 'Y Starting Base Position', 'Percent Match', 'Second Position', 'ChangeTo', 'Starting Base Position', 'Percent Match2', 'Second Position2']\n",
    "chrom_changes = pandas.read_table( \n",
    "    'LP6005636-DNA_H02.chrom_changes.txt', #the file we are reading in\n",
    "    names= col_names)#names of the columns\n",
    " \n",
    "chrom_changes.set_index(\"Read ID\", drop=True, inplace = True) #sets index to first col\n",
    "chrom_changes.head()"
   ]
  },
  {
   "cell_type": "code",
   "execution_count": 2,
   "metadata": {
    "collapsed": false
   },
   "outputs": [],
   "source": [
    "#Creating a list of chroms for iteration, and a dictionary of chrom --> chrom length to configure the axes of the graph\n",
    "chroms = ['chr%s' % i for i in range(1, 23) + ['X', 'M']]\n",
    "\n",
    "\n",
    "chr_lengths = [249250621, 243199373,198022430,191154276, 180915260, \n",
    "               171115067, 159138663, 146364022, 141213431, \n",
    "               135534747, 135006516, 133851895, 115169878, 107349540, \n",
    "               102531392, 90354753, 81195210, 78077248, 59128983,\n",
    "               63025520, 48129895, 51304566, 155270560, 16571, 59373566]  \n",
    "\n",
    "# lengths of chromosomes taken from https://genome.ucsc.edu/goldenpath/help/hg19.chrom.sizes\n",
    "# lengths listed in order from 1-22, X, M, Y\n",
    "chr_lengths_dict = {}\n",
    "for i, chrom in enumerate(chroms):\n",
    "    chr_lengths_dict[chrom] = chr_lengths[i] \n",
    "chr_lengths_dict['chrY'] = chr_lengths[len(chr_lengths) - 1]\n"
   ]
  },
  {
   "cell_type": "code",
   "execution_count": null,
   "metadata": {
    "collapsed": false
   },
   "outputs": [],
   "source": [
    "#Scatterplots for chrY vs chr1 - chr10\n",
    "pp = PdfPages('chrom_changes scatter plots.pdf')\n",
    "for chrom in chroms[0:10]:\n",
    "    subset = chrom_changes.loc[chrom_changes['ChangeTo'] == chrom] #change the chr14 to whatever is in chrom list when looping through all chroms\n",
    "    fig, ax = plt.subplots() \n",
    "    ax.set_title(\"Scatter Plot of chrY read vs %s read\" %chrom)\n",
    "    ax.set_ylabel('%s Starting BP Position of read' %chrom)\n",
    "    ax.set_xlabel('chrY Starting BP Position of read')\n",
    "    ax.scatter(subset['Y Starting Base Position'], subset['Starting Base Position'], s = 5)\n",
    "    plt.axis([0, chr_lengths_dict['chrY'], 0, chr_lengths_dict[chrom]])\n",
    "    plt.savefig(pp, format='pdf')\n",
    "pp.close()"
   ]
  },
  {
   "cell_type": "code",
   "execution_count": 3,
   "metadata": {
    "collapsed": false
   },
   "outputs": [],
   "source": [
    "#Scatterplots for chrY vs chr11 - chrM\n",
    "pp2 = PdfPages('chrom_changes scatter plots2.pdf')\n",
    "for chrom in chroms[10:]:\n",
    "    subset = chrom_changes.loc[chrom_changes['ChangeTo'] == chrom] #change the chr14 to whatever is in chrom list when looping through all chroms\n",
    "    fig, ax = plt.subplots() \n",
    "    ax.set_title(\"Scatter Plot of chrY read vs %s read\" %chrom)\n",
    "    ax.set_ylabel('%s Starting BP Position of read' %chrom)\n",
    "    ax.set_xlabel('chrY Starting BP Position of read')\n",
    "    ax.scatter(subset['Y Starting Base Position'], subset['Starting Base Position'], s = 5)\n",
    "    plt.axis([0, chr_lengths_dict['chrY'], 0, chr_lengths_dict[chrom]])\n",
    "    plt.savefig(pp, format='pdf')\n",
    "pp2.close()"
   ]
  },
  {
   "cell_type": "code",
   "execution_count": null,
   "metadata": {
    "collapsed": false
   },
   "outputs": [],
   "source": [
    "chrom_changes.groupby('ChangeTo').size()"
   ]
  },
  {
   "cell_type": "code",
   "execution_count": null,
   "metadata": {
    "collapsed": true
   },
   "outputs": [],
   "source": []
  }
 ],
 "metadata": {
  "kernelspec": {
   "display_name": "Python 2",
   "language": "python",
   "name": "python2"
  },
  "language_info": {
   "codemirror_mode": {
    "name": "ipython",
    "version": 2
   },
   "file_extension": ".py",
   "mimetype": "text/x-python",
   "name": "python",
   "nbconvert_exporter": "python",
   "pygments_lexer": "ipython2",
   "version": "2.7.10"
  }
 },
 "nbformat": 4,
 "nbformat_minor": 0
}
