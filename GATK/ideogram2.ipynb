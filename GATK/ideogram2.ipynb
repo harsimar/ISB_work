{
 "cells": [
  {
   "cell_type": "code",
   "execution_count": 2,
   "metadata": {
    "collapsed": false
   },
   "outputs": [
    {
     "data": {
      "text/html": [
       "<div>\n",
       "<table border=\"1\" class=\"dataframe\">\n",
       "  <thead>\n",
       "    <tr style=\"text-align: right;\">\n",
       "      <th></th>\n",
       "      <th>chromosome</th>\n",
       "      <th>Y Starting Base Position</th>\n",
       "      <th>Percent Match</th>\n",
       "      <th>Second Position</th>\n",
       "      <th>ChangeTo</th>\n",
       "      <th>Starting Base Position</th>\n",
       "      <th>Percent Match2</th>\n",
       "      <th>Second Position2</th>\n",
       "    </tr>\n",
       "    <tr>\n",
       "      <th>Read ID</th>\n",
       "      <th></th>\n",
       "      <th></th>\n",
       "      <th></th>\n",
       "      <th></th>\n",
       "      <th></th>\n",
       "      <th></th>\n",
       "      <th></th>\n",
       "      <th></th>\n",
       "    </tr>\n",
       "  </thead>\n",
       "  <tbody>\n",
       "    <tr>\n",
       "      <th>C2D1RACXX_1:8:1101:1000601:0</th>\n",
       "      <td>chrY</td>\n",
       "      <td>13484087</td>\n",
       "      <td>100M</td>\n",
       "      <td>=</td>\n",
       "      <td>chr18</td>\n",
       "      <td>108134</td>\n",
       "      <td>38S44M18S</td>\n",
       "      <td>=</td>\n",
       "    </tr>\n",
       "    <tr>\n",
       "      <th>C2D1RACXX_1:8:1101:1000601:0</th>\n",
       "      <td>chrY</td>\n",
       "      <td>13484087</td>\n",
       "      <td>100M</td>\n",
       "      <td>=</td>\n",
       "      <td>chr18</td>\n",
       "      <td>107998</td>\n",
       "      <td>5S91M4S</td>\n",
       "      <td>=</td>\n",
       "    </tr>\n",
       "    <tr>\n",
       "      <th>C2D1RACXX_1:8:1101:1000739:0</th>\n",
       "      <td>chrY</td>\n",
       "      <td>13664682</td>\n",
       "      <td>3S84M13S</td>\n",
       "      <td>=</td>\n",
       "      <td>chr4</td>\n",
       "      <td>49105559</td>\n",
       "      <td>48M5D52M</td>\n",
       "      <td>chr21</td>\n",
       "    </tr>\n",
       "    <tr>\n",
       "      <th>C2D1RACXX_1:8:1101:1000739:0</th>\n",
       "      <td>chrY</td>\n",
       "      <td>13664682</td>\n",
       "      <td>3S84M13S</td>\n",
       "      <td>=</td>\n",
       "      <td>chr21</td>\n",
       "      <td>10776646</td>\n",
       "      <td>56M44S</td>\n",
       "      <td>chr4</td>\n",
       "    </tr>\n",
       "    <tr>\n",
       "      <th>C2D1RACXX_1:8:1101:1001197:0</th>\n",
       "      <td>chrY</td>\n",
       "      <td>26046243</td>\n",
       "      <td>100M</td>\n",
       "      <td>=</td>\n",
       "      <td>chr10</td>\n",
       "      <td>59885544</td>\n",
       "      <td>61S25M14S</td>\n",
       "      <td>=</td>\n",
       "    </tr>\n",
       "  </tbody>\n",
       "</table>\n",
       "</div>"
      ],
      "text/plain": [
       "                             chromosome  Y Starting Base Position  \\\n",
       "Read ID                                                             \n",
       "C2D1RACXX_1:8:1101:1000601:0       chrY                  13484087   \n",
       "C2D1RACXX_1:8:1101:1000601:0       chrY                  13484087   \n",
       "C2D1RACXX_1:8:1101:1000739:0       chrY                  13664682   \n",
       "C2D1RACXX_1:8:1101:1000739:0       chrY                  13664682   \n",
       "C2D1RACXX_1:8:1101:1001197:0       chrY                  26046243   \n",
       "\n",
       "                             Percent Match Second Position ChangeTo  \\\n",
       "Read ID                                                               \n",
       "C2D1RACXX_1:8:1101:1000601:0          100M               =    chr18   \n",
       "C2D1RACXX_1:8:1101:1000601:0          100M               =    chr18   \n",
       "C2D1RACXX_1:8:1101:1000739:0      3S84M13S               =     chr4   \n",
       "C2D1RACXX_1:8:1101:1000739:0      3S84M13S               =    chr21   \n",
       "C2D1RACXX_1:8:1101:1001197:0          100M               =    chr10   \n",
       "\n",
       "                              Starting Base Position Percent Match2  \\\n",
       "Read ID                                                               \n",
       "C2D1RACXX_1:8:1101:1000601:0                  108134      38S44M18S   \n",
       "C2D1RACXX_1:8:1101:1000601:0                  107998        5S91M4S   \n",
       "C2D1RACXX_1:8:1101:1000739:0                49105559       48M5D52M   \n",
       "C2D1RACXX_1:8:1101:1000739:0                10776646         56M44S   \n",
       "C2D1RACXX_1:8:1101:1001197:0                59885544      61S25M14S   \n",
       "\n",
       "                             Second Position2  \n",
       "Read ID                                        \n",
       "C2D1RACXX_1:8:1101:1000601:0                =  \n",
       "C2D1RACXX_1:8:1101:1000601:0                =  \n",
       "C2D1RACXX_1:8:1101:1000739:0            chr21  \n",
       "C2D1RACXX_1:8:1101:1000739:0             chr4  \n",
       "C2D1RACXX_1:8:1101:1001197:0                =  "
      ]
     },
     "execution_count": 2,
     "metadata": {},
     "output_type": "execute_result"
    }
   ],
   "source": [
    "import matplotlib.pyplot as plt\n",
    "import pandas\n",
    "\n",
    "#chrom changes file\n",
    "col_names = ['Read ID', 'chromosome', 'Y Starting Base Position', 'Percent Match', 'Second Position', 'ChangeTo', 'Starting Base Position', 'Percent Match2', 'Second Position2']\n",
    "chrom_changes = pandas.read_table( \n",
    "    'LP6005636-DNA_H02.chrom_changes.txt', #the file we are reading in\n",
    "    names= col_names)#names of the columns\n",
    " \n",
    "chrom_changes.set_index(\"Read ID\", drop=True, inplace = True) #sets index to first col\n",
    "chrom_changes.head()\n",
    "#chrom_changes.loc[chrom_changes['Second Position'] != \"=\"] ask denise about this"
   ]
  },
  {
   "cell_type": "code",
   "execution_count": 3,
   "metadata": {
    "collapsed": false
   },
   "outputs": [],
   "source": [
    "# lengths of chromosomes taken from https://genome.ucsc.edu/goldenpath/help/hg19.chrom.sizes\n",
    "# lengths listed in order from 1-22, X, M, Y\n",
    "chr_lengths = [249250621, 243199373,198022430,191154276, 180915260, \n",
    "               171115067, 159138663, 146364022, 141213431, \n",
    "               135534747, 135006516, 133851895, 115169878, 107349540, \n",
    "               102531392, 90354753, 81195210, 78077248, 59128983,\n",
    "               63025520, 48129895, 51304566, 155270560, 16571, 59373566]  \n",
    "chrom_list = ['chr%s' % i for i in range(1, 23) + ['X', 'M']]\n",
    "chr_lengths_dict = {}\n",
    "for i, chrom in enumerate(chrom_list):\n",
    "    chr_lengths_dict[chrom] = chr_lengths[i] \n",
    "chr_lengths_dict['chrY'] = chr_lengths[len(chr_lengths) - 1]"
   ]
  },
  {
   "cell_type": "code",
   "execution_count": null,
   "metadata": {
    "collapsed": false
   },
   "outputs": [],
   "source": [
    "#for one chromosome pair (chrY reads that went to chr14)\n",
    "subset = chrom_changes.loc[chrom_changes['ChangeTo'] == 'chr14'] #change the chr14 to whatever is in chrom list when looping through all chroms\n",
    "fig, ax = plt.subplots() \n",
    "ax.set_title(\"An ideogram of where reads from chrY went when compared to w/out Y reference\")\n",
    "ax.set_ylabel('Chromosome')\n",
    "ax.set_xlabel('Starting BP Position of read')\n",
    "ax.set_ylim(0, 3)\n",
    "plt.yticks([1,2], ['chr14', 'chrY']) #change chr14 to iterating chrom when looping through chrom_list\n",
    "\n",
    "plt.hlines(2, 0, chr_lengths_dict['chrY'])\n",
    "plt.hlines(1, 0, chr_lengths_dict['chr14']) #change chr14 to iterating chrom when looping though chrom_list\n",
    "for index, row in subset.iterrows():\n",
    "    #plotting chrY dot\n",
    "    y_dot = row['Y Starting Base Position']\n",
    "    o_dot = row['Starting Base Position']\n",
    "    plt.plot(y_dot, 2, 'b.')\n",
    "    #plotting changed read dot\n",
    "    plt.plot(o_dot, 1, 'b.')\n",
    "    #plotting line between dots\n",
    "    plt.plot([y_dot, o_dot], [2, 1], 'g--', alpha = 0.1)\n",
    "plt.show()"
   ]
  },
  {
   "cell_type": "code",
   "execution_count": null,
   "metadata": {
    "collapsed": false
   },
   "outputs": [],
   "source": [
    "chrom_changes.groupby('ChangeTo').size()\n",
    "                    "
   ]
  },
  {
   "cell_type": "code",
   "execution_count": null,
   "metadata": {
    "collapsed": true
   },
   "outputs": [],
   "source": []
  }
 ],
 "metadata": {
  "kernelspec": {
   "display_name": "Python 2",
   "language": "python",
   "name": "python2"
  },
  "language_info": {
   "codemirror_mode": {
    "name": "ipython",
    "version": 2
   },
   "file_extension": ".py",
   "mimetype": "text/x-python",
   "name": "python",
   "nbconvert_exporter": "python",
   "pygments_lexer": "ipython2",
   "version": "2.7.10"
  }
 },
 "nbformat": 4,
 "nbformat_minor": 0
}
