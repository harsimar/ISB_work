{
 "cells": [
  {
   "cell_type": "code",
   "execution_count": null,
   "metadata": {
    "collapsed": true
   },
   "outputs": [],
   "source": [
    "import csv\n",
    "import gzip\n",
    "import os\n",
    "filepaths = {}\n",
    "\n",
    "with open('/40TB_3/InovaGenomes/IlluminaList') as gvcfFileList:\n",
    "    gvcfListReader = csv.reader(gvcfFileList, delimiter = '\\t')\n",
    "    for row in gvcfListReader:\n",
    "        genome_id = row[0][9:26]\n",
    "        filename = genome_id + \".norm.sorted.rcf.gz\"\n",
    "        filepath = os.path.join(\"/40TB_3/InovaGenomes/\" , \"RCF/NORM/20150920/\", filename)\n",
    "        filepaths[genome_id] = filepath"
   ]
  },
  {
   "cell_type": "code",
   "execution_count": null,
   "metadata": {
    "collapsed": true
   },
   "outputs": [],
   "source": [
    "#Takes in two strings, one from the format column and one from the column that \n",
    "#specifies the data. Example inputs: 'GT:GQX:DP:DPF' as format_string, and '0/0:21:8:0'\n",
    "#as data_string. Splits these strings and returns a string that represents the genotype\n",
    "#enclosed in brackets. \n",
    "def get_genotype(format_string, data_string):\n",
    "    format_list = format_string.split(\":\")\n",
    "    data_list = data_string.split(\":\")\n",
    "    info = {} #a dict of format subtype string --> data subtype string\n",
    "    for f, d in zip(format_list, data_list):\n",
    "        info[f] = d\n",
    "    return '[' + info['GT'] + ']'"
   ]
  },
  {
   "cell_type": "code",
   "execution_count": null,
   "metadata": {
    "collapsed": true
   },
   "outputs": [],
   "source": [
    "for genome_id, filepath in filepaths.iteritems(): \n",
    "    line_count = {} # dictionary of 'filter' --> count, \n",
    "    #or if the filter is 'PASS' then 'PASS[GT]' --> count\n",
    "    with gzip.open(filepath) as gvcfFile: \n",
    "        gvcf_reader = csv.reader(gvcfFile, delimiter = '\\t')\n",
    "        col_labels = ['CHROM', 'START', 'END', 'ID', 'REF', 'ALT', 'QUAL', 'FILTER', 'INFO', 'FORMAT', 'Sample']\n",
    "        indexes = range(0, len(col_labels))\n",
    "        col_dict= {}\n",
    "        for index, label in zip(indexes, col_labels):\n",
    "            col_dict[label] = index\n",
    "        for j, row in enumerate(gvcf_reader):\n",
    "            if(j > 109): #the first 109 lines are lines we don't need\n",
    "                filterT = row[col_dict['FILTER']]\n",
    "                key = filterT\n",
    "                if(filterT == 'PASS'):\n",
    "                    formatD = row[col_dict['FORMAT']]\n",
    "                    data = row[col_dict['Sample']]\n",
    "                    key += get_genotype(formatD, data)\n",
    "        \n",
    "                if line_count.has_key(key):\n",
    "                    line_count[key] = line_count.get(key) + 1\n",
    "                else:\n",
    "                    line_count[key] = 1\n",
    "            if(j >= 209): break #goes through the first 100 lines of table \n",
    "        #print('ID:' + genome_id, line_count)\n",
    "    \n",
    "    output_file_name = os.path.join('/40TB_3/gestalt/private/IndividualGenomeAssembly/', genome_id, 'analyses/FileCategoryCount.rcf')\n",
    "    #print(output_file_name)\n",
    "    with open(output_file_name, 'wb') as output_file:\n",
    "        output_writer = csv.writer(output_file, delimiter = '\\t')\n",
    "        output_writer.writerow(['filepath of original rcf file:',filepath]) \n",
    "        for key in line_count:\n",
    "            output_writer.writerow([key, line_count.get(key)])"
   ]
  }
 ],
 "metadata": {
  "kernelspec": {
   "display_name": "Python 2",
   "language": "python",
   "name": "python2"
  },
  "language_info": {
   "codemirror_mode": {
    "name": "ipython",
    "version": 2
   },
   "file_extension": ".py",
   "mimetype": "text/x-python",
   "name": "python",
   "nbconvert_exporter": "python",
   "pygments_lexer": "ipython2",
   "version": "2.7.10"
  }
 },
 "nbformat": 4,
 "nbformat_minor": 0
}
