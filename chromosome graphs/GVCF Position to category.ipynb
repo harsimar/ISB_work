{
 "cells": [
  {
   "cell_type": "code",
   "execution_count": 1,
   "metadata": {
    "collapsed": true
   },
   "outputs": [],
   "source": [
    "import csv\n",
    "import gzip\n",
    "import os\n",
    "\n",
    "#Takes in two strings, one from the format column and one from the column that \n",
    "#specifies the data. Example inputs: 'GT:GQX:DP:DPF' as format_string, and '0/0:21:8:0'\n",
    "#as data_string. Splits these strings and returns a string that represents the genotype\n",
    "#enclosed in brackets. \n",
    "def get_genotype(format_string, data_string):\n",
    "    format_list = format_string.split(\":\")\n",
    "    data_list = data_string.split(\":\")\n",
    "    info = {} #a dict of format subtype string --> data subtype string\n",
    "    for f, d in zip(format_list, data_list):\n",
    "        info[f] = d\n",
    "    return '[' + info['GT'] + ']'"
   ]
  },
  {
   "cell_type": "code",
   "execution_count": null,
   "metadata": {
    "collapsed": true
   },
   "outputs": [],
   "source": [
    "#The code in this cell writes out a file for each chromosome of one person's gcvf file. \n",
    "#The file contains the pass[0/0] count for that chromosome in the first row. The \n",
    "#rest of the rows have position in one column and category in another column (excluding pass[0/0]). \n",
    "\n",
    "with gzip.open('/40TB_3/InovaGenomes/Illumina/LP6005636-DNA_F04/ASM/LP6005636-DNA_F04.genome.vcf.gz') as gvcfFile:\n",
    "    pos_category = []\n",
    "    chrom = 'chrM'\n",
    "    pass_00_count = 0\n",
    "    gvcfReader = csv.reader(gvcfFile, delimiter = '\\t')\n",
    "    col_labels = ['CHROM', 'POS', 'ID', 'REF', 'ALT', 'QUAL', 'FILTER', 'INFO', 'FORMAT', 'Sample']\n",
    "    indexes = range(0, len(col_labels))\n",
    "    col_dict= {}\n",
    "    for index, label in zip(indexes, col_labels):\n",
    "        col_dict[label] = index\n",
    "\n",
    "    for i, row in enumerate(gvcfReader):\n",
    "        if(not row[0].startswith(\"#\")): #107 start\n",
    "            current_chrom = row[col_dict['CHROM']]\n",
    "            pos = row[col_dict['POS']]\n",
    "            category = row[col_dict['FILTER']]\n",
    "            if(category == 'PASS'):\n",
    "                formatD = row[col_dict['FORMAT']]\n",
    "                data = row[col_dict['Sample']]\n",
    "                category += get_genotype(formatD, data)\n",
    "            if(current_chrom != chrom): #if we have reached a new chromsome, create a file for the old\n",
    "                #create file for the old chrom\n",
    "                with open('%s position and category.gvcf'%chrom, 'wb') as output_file:\n",
    "                    output_writer = csv.writer(output_file, delimiter = '\\t')\n",
    "                    output_writer.writerow([pass_00_count]) #print the pass00 count\n",
    "                    for sublist in pos_category:\n",
    "                        output_writer.writerow(sublist) #print each line's position and category\n",
    "                #reset variables for the new chromosome\n",
    "                pass_00_count = 0\n",
    "                del pos_category[:]\n",
    "                chrom = current_chrom\n",
    "    \n",
    "        #Regardless of whether we switched chromsomes or not, we still need to increment count and\n",
    "        #add a new value to the map. That's why the block below isn't under an else clause. \n",
    "            if category == 'PASS[0/0]': #keep track of PASS[0/0] but don't add to map\n",
    "                pass_00_count += 1;\n",
    "            else: #add to map that will be printed later\n",
    "                pos_category.append([pos, category]) #how about duplicate postions?\n",
    "        if i >= 7976: break\n",
    "    #When we have reached the end of the file, the last chromosome's data would not have been written yet. \n",
    "    #The way my code is set up, it doesn't print the file until a new chromsome appears. \n",
    "    #Writing file for last chromosome below. \n",
    "    with open('%s position and category.gvcf'%chrom, 'wb') as output_file:\n",
    "        output_writer = csv.writer(output_file, delimiter = '\\t')\n",
    "        output_writer.writerow(['PASS[0/0] count:', pass_00_count]) #print the pass00 count\n",
    "        for sublist in pos_category:\n",
    "            output_writer.writerow(sublist)\n",
    "     "
   ]
  }
 ],
 "metadata": {
  "kernelspec": {
   "display_name": "Python 2",
   "language": "python",
   "name": "python2"
  },
  "language_info": {
   "codemirror_mode": {
    "name": "ipython",
    "version": 2
   },
   "file_extension": ".py",
   "mimetype": "text/x-python",
   "name": "python",
   "nbconvert_exporter": "python",
   "pygments_lexer": "ipython2",
   "version": "2.7.10"
  }
 },
 "nbformat": 4,
 "nbformat_minor": 0
}
