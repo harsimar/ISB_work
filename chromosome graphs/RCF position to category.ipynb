{
 "cells": [
  {
   "cell_type": "code",
   "execution_count": 1,
   "metadata": {
    "collapsed": true
   },
   "outputs": [],
   "source": [
    "import csv\n",
    "import gzip\n",
    "import os\n",
    "\n",
    "#Takes in two strings, one from the format column and one from the column that \n",
    "#specifies the data. Example inputs: 'GT:GQX:DP:DPF' as format_string, and '0/0:21:8:0'\n",
    "#as data_string. Splits these strings and returns a string that represents the genotype\n",
    "#enclosed in brackets. \n",
    "def get_genotype(format_string, data_string):\n",
    "    format_list = format_string.split(\":\")\n",
    "    data_list = data_string.split(\":\")\n",
    "    info = {} #a dict of format subtype string --> data subtype string\n",
    "    for f, d in zip(format_list, data_list):\n",
    "        info[f] = d\n",
    "    return '[' + info['GT'] + ']'"
   ]
  },
  {
   "cell_type": "code",
   "execution_count": null,
   "metadata": {
    "collapsed": true
   },
   "outputs": [],
   "source": [
    "with gzip.open('/40TB_3/InovaGenomes/RCF/NORM/20150920/LP6005636-DNA_F04.norm.sorted.rcf.gz') as rcfFile:\n",
    "    pos_category = []\n",
    "    chrom = 'chr1' \n",
    "    rcfReader = csv.reader(rcfFile, delimiter = '\\t')\n",
    "    col_labels = ['CHROM', 'START','END', 'ID', 'REF', 'ALT', 'QUAL', 'FILTER', 'INFO', 'FORMAT', 'Sample']\n",
    "    indexes = range(0, len(col_labels))\n",
    "    col_dict= {}\n",
    "    for index, label in zip(indexes, col_labels):\n",
    "         col_dict[label] = index\n",
    "    for i, row in enumerate(rcfReader):\n",
    "        if(not(row[0].startswith('#'))):\n",
    "            current_chrom = row[col_dict['CHROM']]\n",
    "            pos = row[col_dict['START']]\n",
    "            category = row[col_dict['FILTER']]\n",
    "            if(category == 'PASS'):\n",
    "                formatD = row[col_dict['FORMAT']]\n",
    "                data = row[col_dict['Sample']]\n",
    "                category += get_genotype(formatD, data)\n",
    "            if(current_chrom != chrom): #if we have reached a new chromsome, create a file for the old\n",
    "                #create file for the old chrom\n",
    "                with open('%s position and category.rcf'%chrom, 'wb') as output_file:\n",
    "                    output_writer = csv.writer(output_file, delimiter = '\\t')\n",
    "                    for sublist in pos_category:\n",
    "                        output_writer.writerow(sublist) #print each line's position and category\n",
    "                #reset variables for the new chromosome\n",
    "                del pos_category[:]\n",
    "                chrom = current_chrom\n",
    "            \n",
    "            #regardless of whether chrom changed, a new entry will be added to the map\n",
    "            pos_category.append([pos, category]) #how about duplicate postions?\n",
    "        if i >= 183: break\n",
    "\n",
    "    #When we have reached the end of the file, the last chromosome's data would not have been written yet. \n",
    "    #The way my code is set up, it doesn't print the file until a new chromsome appears. \n",
    "    #Writing file for last chromosome below. \n",
    "    with open('%s position and category.rcf'%chrom, 'wb') as output_file:\n",
    "                    output_writer = csv.writer(output_file, delimiter = '\\t')\n",
    "                    for sublist in pos_category:\n",
    "                        output_writer.writerow(sublist)"
   ]
  }
 ],
 "metadata": {
  "kernelspec": {
   "display_name": "Python 2",
   "language": "python",
   "name": "python2"
  },
  "language_info": {
   "codemirror_mode": {
    "name": "ipython",
    "version": 2
   },
   "file_extension": ".py",
   "mimetype": "text/x-python",
   "name": "python",
   "nbconvert_exporter": "python",
   "pygments_lexer": "ipython2",
   "version": "2.7.10"
  }
 },
 "nbformat": 4,
 "nbformat_minor": 0
}
