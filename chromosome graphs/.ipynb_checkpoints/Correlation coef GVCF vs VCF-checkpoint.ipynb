{
 "cells": [
  {
   "cell_type": "code",
   "execution_count": 85,
   "metadata": {
    "collapsed": false
   },
   "outputs": [
    {
     "data": {
      "text/html": [
       "<div>\n",
       "<table border=\"1\" class=\"dataframe\">\n",
       "  <thead>\n",
       "    <tr style=\"text-align: right;\">\n",
       "      <th></th>\n",
       "      <th>Subject ID</th>\n",
       "      <th>ID</th>\n",
       "      <th>Gestalt ID</th>\n",
       "      <th>Vendor</th>\n",
       "      <th>Gender</th>\n",
       "      <th>File Type</th>\n",
       "      <th>chr1</th>\n",
       "      <th>chr2</th>\n",
       "      <th>chr3</th>\n",
       "      <th>chr4</th>\n",
       "      <th>...</th>\n",
       "      <th>chr16</th>\n",
       "      <th>chr17</th>\n",
       "      <th>chr18</th>\n",
       "      <th>chr19</th>\n",
       "      <th>chr20</th>\n",
       "      <th>chr21</th>\n",
       "      <th>chr22</th>\n",
       "      <th>chrX</th>\n",
       "      <th>chrY</th>\n",
       "      <th>chrM</th>\n",
       "    </tr>\n",
       "    <tr>\n",
       "      <th>Vendor</th>\n",
       "      <th></th>\n",
       "      <th></th>\n",
       "      <th></th>\n",
       "      <th></th>\n",
       "      <th></th>\n",
       "      <th></th>\n",
       "      <th></th>\n",
       "      <th></th>\n",
       "      <th></th>\n",
       "      <th></th>\n",
       "      <th></th>\n",
       "      <th></th>\n",
       "      <th></th>\n",
       "      <th></th>\n",
       "      <th></th>\n",
       "      <th></th>\n",
       "      <th></th>\n",
       "      <th></th>\n",
       "      <th></th>\n",
       "      <th></th>\n",
       "      <th></th>\n",
       "    </tr>\n",
       "  </thead>\n",
       "  <tbody>\n",
       "    <tr>\n",
       "      <th>ILMN</th>\n",
       "      <td>102-01276-02</td>\n",
       "      <td>LP6005754-DNA_H01</td>\n",
       "      <td>LP6005754-DNA_H01</td>\n",
       "      <td>ILMN</td>\n",
       "      <td>Male</td>\n",
       "      <td>GVCF</td>\n",
       "      <td>10571558</td>\n",
       "      <td>10480160</td>\n",
       "      <td>8388436</td>\n",
       "      <td>7858688</td>\n",
       "      <td>...</td>\n",
       "      <td>4178214</td>\n",
       "      <td>4295057</td>\n",
       "      <td>3240728</td>\n",
       "      <td>3492104</td>\n",
       "      <td>2973279</td>\n",
       "      <td>1726669</td>\n",
       "      <td>2053683</td>\n",
       "      <td>8189324</td>\n",
       "      <td>998266</td>\n",
       "      <td>9399</td>\n",
       "    </tr>\n",
       "    <tr>\n",
       "      <th>ILMN</th>\n",
       "      <td>102-01276-02</td>\n",
       "      <td>LP6005754-DNA_H01</td>\n",
       "      <td>LP6005754-DNA_H01</td>\n",
       "      <td>ILMN</td>\n",
       "      <td>Male</td>\n",
       "      <td>RCF</td>\n",
       "      <td>1188058</td>\n",
       "      <td>1080103</td>\n",
       "      <td>824897</td>\n",
       "      <td>877191</td>\n",
       "      <td>...</td>\n",
       "      <td>526398</td>\n",
       "      <td>478278</td>\n",
       "      <td>315176</td>\n",
       "      <td>434500</td>\n",
       "      <td>290160</td>\n",
       "      <td>260057</td>\n",
       "      <td>255651</td>\n",
       "      <td>8041543</td>\n",
       "      <td>997436</td>\n",
       "      <td>90</td>\n",
       "    </tr>\n",
       "    <tr>\n",
       "      <th>ILMN</th>\n",
       "      <td>102-01276-02</td>\n",
       "      <td>LP6005754-DNA_H01</td>\n",
       "      <td>LP6005754-DNA_H01</td>\n",
       "      <td>ILMN</td>\n",
       "      <td>Male</td>\n",
       "      <td>VCF</td>\n",
       "      <td>1188058</td>\n",
       "      <td>1080103</td>\n",
       "      <td>824897</td>\n",
       "      <td>877191</td>\n",
       "      <td>...</td>\n",
       "      <td>526398</td>\n",
       "      <td>478278</td>\n",
       "      <td>315176</td>\n",
       "      <td>434500</td>\n",
       "      <td>290160</td>\n",
       "      <td>260057</td>\n",
       "      <td>255651</td>\n",
       "      <td>8041543</td>\n",
       "      <td>997436</td>\n",
       "      <td>90</td>\n",
       "    </tr>\n",
       "    <tr>\n",
       "      <th>ILMN</th>\n",
       "      <td>102-08019-01</td>\n",
       "      <td>LP6005978-DNA_C06</td>\n",
       "      <td>LP6005978-DNA_C06</td>\n",
       "      <td>ILMN</td>\n",
       "      <td>Female</td>\n",
       "      <td>GVCF</td>\n",
       "      <td>24695702</td>\n",
       "      <td>24340818</td>\n",
       "      <td>19277950</td>\n",
       "      <td>17368719</td>\n",
       "      <td>...</td>\n",
       "      <td>9967068</td>\n",
       "      <td>10218819</td>\n",
       "      <td>7525171</td>\n",
       "      <td>8079876</td>\n",
       "      <td>7320351</td>\n",
       "      <td>3979615</td>\n",
       "      <td>4996937</td>\n",
       "      <td>14185902</td>\n",
       "      <td>147162</td>\n",
       "      <td>8415</td>\n",
       "    </tr>\n",
       "    <tr>\n",
       "      <th>ILMN</th>\n",
       "      <td>102-08019-01</td>\n",
       "      <td>LP6005978-DNA_C06</td>\n",
       "      <td>LP6005978-DNA_C06</td>\n",
       "      <td>ILMN</td>\n",
       "      <td>Female</td>\n",
       "      <td>RCF</td>\n",
       "      <td>2391503</td>\n",
       "      <td>2062473</td>\n",
       "      <td>1513760</td>\n",
       "      <td>1517185</td>\n",
       "      <td>...</td>\n",
       "      <td>1158787</td>\n",
       "      <td>1157354</td>\n",
       "      <td>569934</td>\n",
       "      <td>1200887</td>\n",
       "      <td>655376</td>\n",
       "      <td>544612</td>\n",
       "      <td>621773</td>\n",
       "      <td>1327385</td>\n",
       "      <td>146420</td>\n",
       "      <td>103</td>\n",
       "    </tr>\n",
       "  </tbody>\n",
       "</table>\n",
       "<p>5 rows × 31 columns</p>\n",
       "</div>"
      ],
      "text/plain": [
       "          Subject ID                 ID         Gestalt ID Vendor  Gender  \\\n",
       "Vendor                                                                      \n",
       "ILMN    102-01276-02  LP6005754-DNA_H01  LP6005754-DNA_H01   ILMN    Male   \n",
       "ILMN    102-01276-02  LP6005754-DNA_H01  LP6005754-DNA_H01   ILMN    Male   \n",
       "ILMN    102-01276-02  LP6005754-DNA_H01  LP6005754-DNA_H01   ILMN    Male   \n",
       "ILMN    102-08019-01  LP6005978-DNA_C06  LP6005978-DNA_C06   ILMN  Female   \n",
       "ILMN    102-08019-01  LP6005978-DNA_C06  LP6005978-DNA_C06   ILMN  Female   \n",
       "\n",
       "       File Type      chr1      chr2      chr3      chr4  ...     chr16  \\\n",
       "Vendor                                                    ...             \n",
       "ILMN        GVCF  10571558  10480160   8388436   7858688  ...   4178214   \n",
       "ILMN         RCF   1188058   1080103    824897    877191  ...    526398   \n",
       "ILMN         VCF   1188058   1080103    824897    877191  ...    526398   \n",
       "ILMN        GVCF  24695702  24340818  19277950  17368719  ...   9967068   \n",
       "ILMN         RCF   2391503   2062473   1513760   1517185  ...   1158787   \n",
       "\n",
       "           chr17    chr18    chr19    chr20    chr21    chr22      chrX  \\\n",
       "Vendor                                                                    \n",
       "ILMN     4295057  3240728  3492104  2973279  1726669  2053683   8189324   \n",
       "ILMN      478278   315176   434500   290160   260057   255651   8041543   \n",
       "ILMN      478278   315176   434500   290160   260057   255651   8041543   \n",
       "ILMN    10218819  7525171  8079876  7320351  3979615  4996937  14185902   \n",
       "ILMN     1157354   569934  1200887   655376   544612   621773   1327385   \n",
       "\n",
       "          chrY  chrM  \n",
       "Vendor                \n",
       "ILMN    998266  9399  \n",
       "ILMN    997436    90  \n",
       "ILMN    997436    90  \n",
       "ILMN    147162  8415  \n",
       "ILMN    146420   103  \n",
       "\n",
       "[5 rows x 31 columns]"
      ]
     },
     "execution_count": 85,
     "metadata": {},
     "output_type": "execute_result"
    }
   ],
   "source": [
    "import pandas\n",
    "import numpy as np\n",
    "import matplotlib.pyplot as plt\n",
    "\n",
    "col_names = ['Subject ID', 'ID', 'Gestalt ID', 'Vendor', 'Gender', 'File Type'] #represents names field for df\n",
    "\n",
    "for i in range(1, 23):\n",
    "    col_names.append('chr%s' % i) #appends chroms to names list\n",
    "    \n",
    "#adding on the extras\n",
    "col_names.append('chrX') \n",
    "col_names.append('chrY')\n",
    "col_names.append('chrM')\n",
    "\n",
    "chromosome_counts = pandas.read_table( \n",
    "    'file_counts_20160615.txt', #the file we are reading in\n",
    "    skiprows=1,#skip the first row\n",
    "    names= col_names)#names of the columns\n",
    "\n",
    "#chromosome_counts = \n",
    "chromosome_counts.set_index(\"Vendor\", drop=False, inplace = True) #sets index to first col\n",
    "chromosome_counts.head()"
   ]
  },
  {
   "cell_type": "code",
   "execution_count": 95,
   "metadata": {
    "collapsed": false
   },
   "outputs": [],
   "source": [
    "#isolating ILMN dataframe\n",
    "ilmn = chromosome_counts.loc['ILMN']"
   ]
  },
  {
   "cell_type": "code",
   "execution_count": 96,
   "metadata": {
    "collapsed": false
   },
   "outputs": [],
   "source": [
    "#pulling out gvcf vs vcf dataframes (of tech ILMN)\n",
    "ilmn.set_index(\"File Type\", drop=False, inplace = True)\n",
    "gvcfs = ilmn.loc['GVCF']\n",
    "vcfs = ilmn.loc['VCF']"
   ]
  },
  {
   "cell_type": "code",
   "execution_count": 97,
   "metadata": {
    "collapsed": false
   },
   "outputs": [],
   "source": [
    "#taking the chr1 series from the GVCF and the VCF dataframes\n",
    "chr1_gvcf = gvcfs['chr1']\n",
    "chr1_vcf = vcfs['chr1']"
   ]
  },
  {
   "cell_type": "code",
   "execution_count": 98,
   "metadata": {
    "collapsed": false
   },
   "outputs": [
    {
     "data": {
      "text/plain": [
       "978732"
      ]
     },
     "execution_count": 98,
     "metadata": {},
     "output_type": "execute_result"
    }
   ],
   "source": [
    "min(chr1_vcf)"
   ]
  },
  {
   "cell_type": "code",
   "execution_count": 99,
   "metadata": {
    "collapsed": false
   },
   "outputs": [
    {
     "data": {
      "text/plain": [
       "nan"
      ]
     },
     "execution_count": 99,
     "metadata": {},
     "output_type": "execute_result"
    }
   ],
   "source": [
    "#Finding correlation coefficient of the two series\n",
    "chr1_gvcf.corr(chr1_vcf) #pearson, got Nan\n",
    "chr1_gvcf.corr(chr1_vcf, 'kendall') #kendall, got Nan\n",
    "chr1_gvcf.corr(chr1_vcf, 'spearman') #spearman, got Nan"
   ]
  },
  {
   "cell_type": "code",
   "execution_count": 101,
   "metadata": {
    "collapsed": false
   },
   "outputs": [
    {
     "data": {
      "text/plain": [
       "False"
      ]
     },
     "execution_count": 101,
     "metadata": {},
     "output_type": "execute_result"
    }
   ],
   "source": [
    "np.isnan(chr1_gvcf).any()"
   ]
  },
  {
   "cell_type": "code",
   "execution_count": 102,
   "metadata": {
    "collapsed": false
   },
   "outputs": [
    {
     "data": {
      "text/plain": [
       "False"
      ]
     },
     "execution_count": 102,
     "metadata": {},
     "output_type": "execute_result"
    }
   ],
   "source": [
    "#Seeing if any of the series contain null values\n",
    "chr1_gvcf.isnull().any()\n",
    "chr1_vcf.isnull().any() #both of these series don't have null values"
   ]
  },
  {
   "cell_type": "code",
   "execution_count": 103,
   "metadata": {
    "collapsed": false
   },
   "outputs": [],
   "source": [
    "#hist of chr1_gvcf\n",
    "chr1_gvcf.hist(bins = 100)\n",
    "plt.title('Histogram of chr1_gvcf')\n",
    "plt.xlabel('Variant Counts')\n",
    "plt.ylabel('# of People in each bin')\n",
    "plt.show()"
   ]
  },
  {
   "cell_type": "code",
   "execution_count": 104,
   "metadata": {
    "collapsed": false
   },
   "outputs": [
    {
     "data": {
      "text/plain": [
       "6400283.2725639036"
      ]
     },
     "execution_count": 104,
     "metadata": {},
     "output_type": "execute_result"
    }
   ],
   "source": [
    "#standard deviation of chr1_gvcf\n",
    "chr1_gvcf.std()"
   ]
  },
  {
   "cell_type": "code",
   "execution_count": 105,
   "metadata": {
    "collapsed": true
   },
   "outputs": [],
   "source": [
    "#hist of chr1_vcf\n",
    "chr1_vcf.hist(bins = 100)\n",
    "plt.title('Histogram of chr1_vcf')\n",
    "plt.xlabel('Variant Counts')\n",
    "plt.ylabel('# of People in each bin')\n",
    "plt.show()"
   ]
  },
  {
   "cell_type": "code",
   "execution_count": 66,
   "metadata": {
    "collapsed": false
   },
   "outputs": [
    {
     "data": {
      "text/plain": [
       "408545.73381115508"
      ]
     },
     "execution_count": 66,
     "metadata": {},
     "output_type": "execute_result"
    }
   ],
   "source": [
    "#std deviation of chr1_vcf\n",
    "chr1_vcf.std()"
   ]
  },
  {
   "cell_type": "code",
   "execution_count": 57,
   "metadata": {
    "collapsed": false
   },
   "outputs": [
    {
     "data": {
      "text/plain": [
       "array([[  4.09636260e+13,   1.95277358e+12],\n",
       "       [  1.95277358e+12,   1.66909617e+11]])"
      ]
     },
     "execution_count": 57,
     "metadata": {},
     "output_type": "execute_result"
    }
   ],
   "source": [
    "#Finding covariance \n",
    "cov = np.cov(chr1_gvcf, chr1_vcf)\n",
    "cov"
   ]
  },
  {
   "cell_type": "code",
   "execution_count": 58,
   "metadata": {
    "collapsed": false
   },
   "outputs": [
    {
     "data": {
      "text/plain": [
       "0.047670916097282891"
      ]
     },
     "execution_count": 58,
     "metadata": {},
     "output_type": "execute_result"
    }
   ],
   "source": [
    "#Finding beta\n",
    "beta = cov[1, 0] / cov[0, 0]\n",
    "beta"
   ]
  },
  {
   "cell_type": "code",
   "execution_count": 121,
   "metadata": {
    "collapsed": false
   },
   "outputs": [
    {
     "ename": "ValueError",
     "evalue": "cannot reindex from a duplicate axis",
     "output_type": "error",
     "traceback": [
      "\u001b[0;31m---------------------------------------------------------------------------\u001b[0m",
      "\u001b[0;31mValueError\u001b[0m                                Traceback (most recent call last)",
      "\u001b[0;32m<ipython-input-121-20891c20b166>\u001b[0m in \u001b[0;36m<module>\u001b[0;34m()\u001b[0m\n\u001b[1;32m      1\u001b[0m \u001b[0;31m#creating a dataframe and using the dataframe corr function\u001b[0m\u001b[0;34m\u001b[0m\u001b[0;34m\u001b[0m\u001b[0m\n\u001b[0;32m----> 2\u001b[0;31m \u001b[0mchr1_gvcf\u001b[0m\u001b[0;34m.\u001b[0m\u001b[0mreindex\u001b[0m\u001b[0;34m(\u001b[0m\u001b[0mrange\u001b[0m\u001b[0;34m(\u001b[0m\u001b[0mlen\u001b[0m\u001b[0;34m(\u001b[0m\u001b[0mchr1_gvcf\u001b[0m\u001b[0;34m)\u001b[0m\u001b[0;34m)\u001b[0m\u001b[0;34m)\u001b[0m\u001b[0;34m\u001b[0m\u001b[0m\n\u001b[0m\u001b[1;32m      3\u001b[0m \u001b[0;31m#chr1_vcf.reindex(range(len(chr1_vcf)))\u001b[0m\u001b[0;34m\u001b[0m\u001b[0;34m\u001b[0m\u001b[0m\n\u001b[1;32m      4\u001b[0m \u001b[0;31m#combined = pandas.DataFrame({'GVCS': chr1_gvcf,'VCF':chr1_vcf})\u001b[0m\u001b[0;34m\u001b[0m\u001b[0;34m\u001b[0m\u001b[0m\n",
      "\u001b[0;32m/usr/local/lib/python2.7/site-packages/pandas/core/series.pyc\u001b[0m in \u001b[0;36mreindex\u001b[0;34m(self, index, **kwargs)\u001b[0m\n\u001b[1;32m   2285\u001b[0m     \u001b[0;34m@\u001b[0m\u001b[0mAppender\u001b[0m\u001b[0;34m(\u001b[0m\u001b[0mgeneric\u001b[0m\u001b[0;34m.\u001b[0m\u001b[0m_shared_docs\u001b[0m\u001b[0;34m[\u001b[0m\u001b[0;34m'reindex'\u001b[0m\u001b[0;34m]\u001b[0m \u001b[0;34m%\u001b[0m \u001b[0m_shared_doc_kwargs\u001b[0m\u001b[0;34m)\u001b[0m\u001b[0;34m\u001b[0m\u001b[0m\n\u001b[1;32m   2286\u001b[0m     \u001b[0;32mdef\u001b[0m \u001b[0mreindex\u001b[0m\u001b[0;34m(\u001b[0m\u001b[0mself\u001b[0m\u001b[0;34m,\u001b[0m \u001b[0mindex\u001b[0m\u001b[0;34m=\u001b[0m\u001b[0mNone\u001b[0m\u001b[0;34m,\u001b[0m \u001b[0;34m**\u001b[0m\u001b[0mkwargs\u001b[0m\u001b[0;34m)\u001b[0m\u001b[0;34m:\u001b[0m\u001b[0;34m\u001b[0m\u001b[0m\n\u001b[0;32m-> 2287\u001b[0;31m         \u001b[0;32mreturn\u001b[0m \u001b[0msuper\u001b[0m\u001b[0;34m(\u001b[0m\u001b[0mSeries\u001b[0m\u001b[0;34m,\u001b[0m \u001b[0mself\u001b[0m\u001b[0;34m)\u001b[0m\u001b[0;34m.\u001b[0m\u001b[0mreindex\u001b[0m\u001b[0;34m(\u001b[0m\u001b[0mindex\u001b[0m\u001b[0;34m=\u001b[0m\u001b[0mindex\u001b[0m\u001b[0;34m,\u001b[0m \u001b[0;34m**\u001b[0m\u001b[0mkwargs\u001b[0m\u001b[0;34m)\u001b[0m\u001b[0;34m\u001b[0m\u001b[0m\n\u001b[0m\u001b[1;32m   2288\u001b[0m \u001b[0;34m\u001b[0m\u001b[0m\n\u001b[1;32m   2289\u001b[0m     \u001b[0;34m@\u001b[0m\u001b[0mAppender\u001b[0m\u001b[0;34m(\u001b[0m\u001b[0mgeneric\u001b[0m\u001b[0;34m.\u001b[0m\u001b[0m_shared_docs\u001b[0m\u001b[0;34m[\u001b[0m\u001b[0;34m'fillna'\u001b[0m\u001b[0;34m]\u001b[0m \u001b[0;34m%\u001b[0m \u001b[0m_shared_doc_kwargs\u001b[0m\u001b[0;34m)\u001b[0m\u001b[0;34m\u001b[0m\u001b[0m\n",
      "\u001b[0;32m/usr/local/lib/python2.7/site-packages/pandas/core/generic.pyc\u001b[0m in \u001b[0;36mreindex\u001b[0;34m(self, *args, **kwargs)\u001b[0m\n\u001b[1;32m   2227\u001b[0m         \u001b[0;31m# perform the reindex on the axes\u001b[0m\u001b[0;34m\u001b[0m\u001b[0;34m\u001b[0m\u001b[0m\n\u001b[1;32m   2228\u001b[0m         return self._reindex_axes(axes, level, limit, tolerance, method,\n\u001b[0;32m-> 2229\u001b[0;31m                                   fill_value, copy).__finalize__(self)\n\u001b[0m\u001b[1;32m   2230\u001b[0m \u001b[0;34m\u001b[0m\u001b[0m\n\u001b[1;32m   2231\u001b[0m     def _reindex_axes(self, axes, level, limit, tolerance, method, fill_value,\n",
      "\u001b[0;32m/usr/local/lib/python2.7/site-packages/pandas/core/generic.pyc\u001b[0m in \u001b[0;36m_reindex_axes\u001b[0;34m(self, axes, level, limit, tolerance, method, fill_value, copy)\u001b[0m\n\u001b[1;32m   2245\u001b[0m             obj = obj._reindex_with_indexers({axis: [new_index, indexer]},\n\u001b[1;32m   2246\u001b[0m                                              \u001b[0mfill_value\u001b[0m\u001b[0;34m=\u001b[0m\u001b[0mfill_value\u001b[0m\u001b[0;34m,\u001b[0m\u001b[0;34m\u001b[0m\u001b[0m\n\u001b[0;32m-> 2247\u001b[0;31m                                              copy=copy, allow_dups=False)\n\u001b[0m\u001b[1;32m   2248\u001b[0m \u001b[0;34m\u001b[0m\u001b[0m\n\u001b[1;32m   2249\u001b[0m         \u001b[0;32mreturn\u001b[0m \u001b[0mobj\u001b[0m\u001b[0;34m\u001b[0m\u001b[0m\n",
      "\u001b[0;32m/usr/local/lib/python2.7/site-packages/pandas/core/generic.pyc\u001b[0m in \u001b[0;36m_reindex_with_indexers\u001b[0;34m(self, reindexers, fill_value, copy, allow_dups)\u001b[0m\n\u001b[1;32m   2339\u001b[0m                                                 \u001b[0mfill_value\u001b[0m\u001b[0;34m=\u001b[0m\u001b[0mfill_value\u001b[0m\u001b[0;34m,\u001b[0m\u001b[0;34m\u001b[0m\u001b[0m\n\u001b[1;32m   2340\u001b[0m                                                 \u001b[0mallow_dups\u001b[0m\u001b[0;34m=\u001b[0m\u001b[0mallow_dups\u001b[0m\u001b[0;34m,\u001b[0m\u001b[0;34m\u001b[0m\u001b[0m\n\u001b[0;32m-> 2341\u001b[0;31m                                                 copy=copy)\n\u001b[0m\u001b[1;32m   2342\u001b[0m \u001b[0;34m\u001b[0m\u001b[0m\n\u001b[1;32m   2343\u001b[0m         \u001b[0;32mif\u001b[0m \u001b[0mcopy\u001b[0m \u001b[0;32mand\u001b[0m \u001b[0mnew_data\u001b[0m \u001b[0;32mis\u001b[0m \u001b[0mself\u001b[0m\u001b[0;34m.\u001b[0m\u001b[0m_data\u001b[0m\u001b[0;34m:\u001b[0m\u001b[0;34m\u001b[0m\u001b[0m\n",
      "\u001b[0;32m/usr/local/lib/python2.7/site-packages/pandas/core/internals.pyc\u001b[0m in \u001b[0;36mreindex_indexer\u001b[0;34m(self, new_axis, indexer, axis, fill_value, allow_dups, copy)\u001b[0m\n\u001b[1;32m   3584\u001b[0m         \u001b[0;31m# some axes don't allow reindexing with dups\u001b[0m\u001b[0;34m\u001b[0m\u001b[0;34m\u001b[0m\u001b[0m\n\u001b[1;32m   3585\u001b[0m         \u001b[0;32mif\u001b[0m \u001b[0;32mnot\u001b[0m \u001b[0mallow_dups\u001b[0m\u001b[0;34m:\u001b[0m\u001b[0;34m\u001b[0m\u001b[0m\n\u001b[0;32m-> 3586\u001b[0;31m             \u001b[0mself\u001b[0m\u001b[0;34m.\u001b[0m\u001b[0maxes\u001b[0m\u001b[0;34m[\u001b[0m\u001b[0maxis\u001b[0m\u001b[0;34m]\u001b[0m\u001b[0;34m.\u001b[0m\u001b[0m_can_reindex\u001b[0m\u001b[0;34m(\u001b[0m\u001b[0mindexer\u001b[0m\u001b[0;34m)\u001b[0m\u001b[0;34m\u001b[0m\u001b[0m\n\u001b[0m\u001b[1;32m   3587\u001b[0m \u001b[0;34m\u001b[0m\u001b[0m\n\u001b[1;32m   3588\u001b[0m         \u001b[0;32mif\u001b[0m \u001b[0maxis\u001b[0m \u001b[0;34m>=\u001b[0m \u001b[0mself\u001b[0m\u001b[0;34m.\u001b[0m\u001b[0mndim\u001b[0m\u001b[0;34m:\u001b[0m\u001b[0;34m\u001b[0m\u001b[0m\n",
      "\u001b[0;32m/usr/local/lib/python2.7/site-packages/pandas/indexes/base.pyc\u001b[0m in \u001b[0;36m_can_reindex\u001b[0;34m(self, indexer)\u001b[0m\n\u001b[1;32m   2291\u001b[0m         \u001b[0;31m# trying to reindex on an axis with duplicates\u001b[0m\u001b[0;34m\u001b[0m\u001b[0;34m\u001b[0m\u001b[0m\n\u001b[1;32m   2292\u001b[0m         \u001b[0;32mif\u001b[0m \u001b[0;32mnot\u001b[0m \u001b[0mself\u001b[0m\u001b[0;34m.\u001b[0m\u001b[0mis_unique\u001b[0m \u001b[0;32mand\u001b[0m \u001b[0mlen\u001b[0m\u001b[0;34m(\u001b[0m\u001b[0mindexer\u001b[0m\u001b[0;34m)\u001b[0m\u001b[0;34m:\u001b[0m\u001b[0;34m\u001b[0m\u001b[0m\n\u001b[0;32m-> 2293\u001b[0;31m             \u001b[0;32mraise\u001b[0m \u001b[0mValueError\u001b[0m\u001b[0;34m(\u001b[0m\u001b[0;34m\"cannot reindex from a duplicate axis\"\u001b[0m\u001b[0;34m)\u001b[0m\u001b[0;34m\u001b[0m\u001b[0m\n\u001b[0m\u001b[1;32m   2294\u001b[0m \u001b[0;34m\u001b[0m\u001b[0m\n\u001b[1;32m   2295\u001b[0m     def reindex(self, target, method=None, level=None, limit=None,\n",
      "\u001b[0;31mValueError\u001b[0m: cannot reindex from a duplicate axis"
     ]
    }
   ],
   "source": [
    "#creating a dataframe and using the dataframe corr function\n",
    "chr1_gvcf.reindex(range(len(chr1_gvcf)))\n",
    "#chr1_vcf.reindex(range(len(chr1_vcf)))\n",
    "#combined = pandas.DataFrame({'GVCS': chr1_gvcf,'VCF':chr1_vcf})"
   ]
  },
  {
   "cell_type": "code",
   "execution_count": 124,
   "metadata": {
    "collapsed": false
   },
   "outputs": [
    {
     "data": {
      "text/plain": [
       "array([[ 1.        ,  0.74681325],\n",
       "       [ 0.74681325,  1.        ]])"
      ]
     },
     "execution_count": 124,
     "metadata": {},
     "output_type": "execute_result"
    }
   ],
   "source": [
    "#using the numpy corrcoef function\n",
    "np.corrcoef(chr1_gvcf, chr1_vcf)"
   ]
  },
  {
   "cell_type": "code",
   "execution_count": null,
   "metadata": {
    "collapsed": true
   },
   "outputs": [],
   "source": []
  }
 ],
 "metadata": {
  "kernelspec": {
   "display_name": "Python 2",
   "language": "python",
   "name": "python2"
  },
  "language_info": {
   "codemirror_mode": {
    "name": "ipython",
    "version": 2
   },
   "file_extension": ".py",
   "mimetype": "text/x-python",
   "name": "python",
   "nbconvert_exporter": "python",
   "pygments_lexer": "ipython2",
   "version": "2.7.10"
  }
 },
 "nbformat": 4,
 "nbformat_minor": 0
}
