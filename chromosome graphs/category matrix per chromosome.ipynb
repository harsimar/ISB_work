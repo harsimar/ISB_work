{
 "cells": [
  {
   "cell_type": "code",
   "execution_count": null,
   "metadata": {
    "collapsed": true
   },
   "outputs": [],
   "source": [
    "import pandas\n",
    "import itertools\n",
    "import csv\n",
    "\n",
    "#creating a list of chromosomes to iterate through\n",
    "chroms = ['chr%s' % i for i in range(1, 23) + ['X', 'Y', 'M']]\n",
    "\n",
    "#create a list of pass subcategories\n",
    "pass_subcats = ['PASS[0/1]', 'PASS[0]', 'PASS[.]', 'PASS[1]', 'PASS[1/1]', 'PASS[1/2]', 'PASS[0/0]']\n",
    "\n",
    "#create a list of columns for the dataframe matrix. This represents all of the possible rcf filter\n",
    "#categories\n",
    "rcf_cats = ['not present', 'nc'] + pass_subcats\n",
    "\n",
    "#create a list of indexes for the dataframe matrix. This represents all of the possible gvcf\n",
    "#filter categories\n",
    "gvcf_cats = ['not present']\n",
    "with open('/40TB_3/InovaGenomes/Filter_combinations') as filters:\n",
    "    filter_reader = csv.reader(filters, delimiter = '\\t')\n",
    "    for row in filter_reader:\n",
    "        gvcf_cats.append(row[0])\n",
    "gvcf_cats = gvcf_cats + pass_subcats\n",
    "gvcf_cats.remove('PASS')"
   ]
  },
  {
   "cell_type": "code",
   "execution_count": null,
   "metadata": {
    "collapsed": true
   },
   "outputs": [],
   "source": [
    "#This code assumes that the input gvcf pos-->cat file is one line longer than rcf pos-->cat file, \n",
    "#because the first line of the gvcf pos--> cat file displays a count of pass[00] in the chromosome. \n",
    "#Assumes that the second line of the gvcf inputstream alligns with the first line of the rcf input stream.\n",
    "#Does not account for mismatching lines. If there are two consecutive lines at the same position,\n",
    "#will add that to the count. \n",
    "\n",
    "# when there is a deletion in the GVCF file, there will be at least 1 line and probably 2 lines\n",
    "# in the RCF file.\n",
    "\n",
    "for chrom in chroms[0:1]: #switch to full list later\n",
    "    matrix = pandas.DataFrame(0, index= gvcf_cats, columns=rcf_cats)\n",
    "    with open('%s position and category.gvcf'%chrom) as gvcf, open('%s position and category.rcf'%chrom) as rcf:\n",
    "        gvcf_reader = csv.reader(gvcf, delimiter = '\\t')\n",
    "        rcf_reader = csv.reader(rcf, delimiter = '\\t')\n",
    "        pass_00_row = next(gvcf_reader)\n",
    "        pass_00_count = pass_00_row[1]\n",
    "        matrix['not present'].loc['PASS[0/0]'] = pass_00_count\n",
    "        count = 0\n",
    "        row_rcf = next(rcf_reader)\n",
    "        for row_gvcf in gvcf_reader:\n",
    "            while True:\n",
    "                rcf_pos = int(row_rcf[0])+1 # convert base 0 to base 1 to match gvcf\n",
    "                gvcf_pos = int(row_gvcf[0])\n",
    "                gvcf_cat = row_gvcf[1]\n",
    "                rcf_cat = row_rcf[1]\n",
    "                if (gvcf_pos == rcf_pos):\n",
    "                    matrix.set_value(gvcf_cat, rcf_cat, matrix[rcf_cat].loc[gvcf_cat] + 1)                \n",
    "                    try:\n",
    "                        row_rcf = next(rcf_reader)\n",
    "                    except:\n",
    "                        break\n",
    "                if gvcf_pos < rcf_pos:\n",
    "                    break\n",
    "        matrix.to_csv(path_or_buf ='category matrix for %s.csv'%chrom, sep = '\\t', header = True, index = True)"
   ]
  }
 ],
 "metadata": {
  "kernelspec": {
   "display_name": "Python 2",
   "language": "python",
   "name": "python2"
  },
  "language_info": {
   "codemirror_mode": {
    "name": "ipython",
    "version": 2
   },
   "file_extension": ".py",
   "mimetype": "text/x-python",
   "name": "python",
   "nbconvert_exporter": "python",
   "pygments_lexer": "ipython2",
   "version": "2.7.10"
  }
 },
 "nbformat": 4,
 "nbformat_minor": 0
}
